{
  "nbformat": 4,
  "nbformat_minor": 0,
  "metadata": {
    "colab": {
      "provenance": [],
      "machine_shape": "hm"
    },
    "kernelspec": {
      "name": "python3",
      "display_name": "Python 3"
    },
    "language_info": {
      "name": "python"
    },
    "gpuClass": "standard"
  },
  "cells": [
    {
      "cell_type": "code",
      "execution_count": null,
      "metadata": {
        "colab": {
          "base_uri": "https://localhost:8080/"
        },
        "id": "TsB9RhzpXeij",
        "outputId": "73b8c6bf-85a9-49b2-a132-997dc94ef4ac"
      },
      "outputs": [
        {
          "output_type": "stream",
          "name": "stdout",
          "text": [
            "Mounted at /content/drive\n"
          ]
        }
      ],
      "source": [
        "# 드라이브 마운트\n",
        "from google.colab import drive\n",
        "drive.mount('/content/drive')"
      ]
    },
    {
      "cell_type": "markdown",
      "source": [
        "## Setting"
      ],
      "metadata": {
        "id": "r2_nzRletDay"
      }
    },
    {
      "cell_type": "code",
      "source": [
        "# Import\n",
        "import random\n",
        "import pandas as pd\n",
        "import numpy as np\n",
        "import os\n",
        "import librosa\n",
        "from sklearn.model_selection import train_test_split\n",
        "from sklearn.ensemble import IsolationForest\n",
        "from sklearn.neural_network import MLPClassifier\n",
        "\n",
        "from sklearn.metrics import accuracy_score, f1_score\n",
        "\n",
        "from tqdm.auto import tqdm\n",
        "import warnings\n",
        "warnings.filterwarnings(action=\"ignore\")"
      ],
      "metadata": {
        "id": "u49dib-dre30"
      },
      "execution_count": null,
      "outputs": []
    },
    {
      "cell_type": "code",
      "source": [
        "# Hyperparameter\n",
        "CFG = {\n",
        "    'SR':20000,\n",
        "    'N_melspectrogram':160,\n",
        "    'SEED':41,\n",
        "}"
      ],
      "metadata": {
        "id": "OXqvOUZvzGTm"
      },
      "execution_count": null,
      "outputs": []
    },
    {
      "cell_type": "code",
      "source": [
        "# RandomSeed\n",
        "def seed_everything(seed):\n",
        "    random.seed(seed)\n",
        "    os.environ['PYTHONHASHSEED'] = str(seed)\n",
        "    np.random.seed(seed)\n",
        "seed_everything(CFG['SEED']) # Seed 고정"
      ],
      "metadata": {
        "id": "r2_6D_S3zNju"
      },
      "execution_count": null,
      "outputs": []
    },
    {
      "cell_type": "markdown",
      "source": [
        "## Data Preprocessing"
      ],
      "metadata": {
        "id": "XVsnY1eqzTWN"
      }
    },
    {
      "cell_type": "code",
      "source": [
        "train = pd.read_csv('/content/drive/MyDrive/Colab Notebooks/Machine_Anomaly/data/train.csv')\n",
        "test = pd.read_csv('/content/drive/MyDrive/Colab Notebooks/Machine_Anomaly/data/test.csv')"
      ],
      "metadata": {
        "id": "AluwnGeGzTtO"
      },
      "execution_count": null,
      "outputs": []
    },
    {
      "cell_type": "code",
      "source": [
        "def img_path_change(img_path):\n",
        "  return '/content/drive/MyDrive/Colab Notebooks/Machine_Anomaly/data' + str(img_path)[1:]\n",
        "\n",
        "train['SAMPLE_PATH'] = train['SAMPLE_PATH'].apply(img_path_change)\n",
        "test['SAMPLE_PATH'] = test['SAMPLE_PATH'].apply(img_path_change)"
      ],
      "metadata": {
        "id": "7dR0BcJ1GLn8"
      },
      "execution_count": null,
      "outputs": []
    },
    {
      "cell_type": "code",
      "source": [
        "def get_melspect_feature(df):\n",
        "  features = []\n",
        "  for path in tqdm(df['SAMPLE_PATH']):\n",
        "    # librosa 패키지를 사용하여 wav 파일 load\n",
        "    y, sr = librosa.load(path, sr=CFG['SR'])\n",
        "\n",
        "    # hpss를 이용한 feature 추출\n",
        "    y_harmonic, y_percussive = librosa.effects.hpss(y)\n",
        "\n",
        "    # librosa 패키지를 사용하여 melspectrogram 추출\n",
        "    melspec_harmonic = librosa.feature.melspectrogram(y_harmonic, n_mels = CFG['N_melspectrogram'])\n",
        "    melspec_percussive = librosa.feature.melspectrogram(y_percussive, n_mels = CFG['N_melspectrogram'])\n",
        "\n",
        "    # 둘의 평균\n",
        "    hpss = np.average([melspec_harmonic, melspec_percussive], axis=0)\n",
        "\n",
        "    # log scale 변환\n",
        "    log_features = librosa.power_to_db(S=hpss, ref=1.0)\n",
        "\n",
        "    # 추출된 melspectrogram의 델타값을 Feature로 사용\n",
        "    y_feature = []\n",
        "    for e in log_features:\n",
        "      y_feature.append(np.mean(e))\n",
        "    features.append(y_feature)\n",
        "    \n",
        "  return features"
      ],
      "metadata": {
        "id": "haT_gg3goE3Z"
      },
      "execution_count": null,
      "outputs": []
    },
    {
      "cell_type": "code",
      "source": [
        "train_features = get_melspect_feature(train)\n",
        "test_features = get_melspect_feature(test)"
      ],
      "metadata": {
        "id": "HOktrVyUPcQ4"
      },
      "execution_count": null,
      "outputs": []
    },
    {
      "cell_type": "markdown",
      "source": [
        "## Model"
      ],
      "metadata": {
        "id": "KZ_T6qRfzRSq"
      }
    },
    {
      "cell_type": "markdown",
      "source": [
        "#### IsolationForest"
      ],
      "metadata": {
        "id": "MNvy3mO2YPZk"
      }
    },
    {
      "cell_type": "code",
      "source": [
        "model = IsolationForest(n_estimators=200, max_samples=256, contamination='auto', random_state=CFG['SEED'], verbose=0)\n",
        "model.fit(train_features)"
      ],
      "metadata": {
        "id": "cl_V4blwzSO4"
      },
      "execution_count": null,
      "outputs": []
    },
    {
      "cell_type": "markdown",
      "source": [
        "## Prediction"
      ],
      "metadata": {
        "id": "UjLFaTFVzW_T"
      }
    },
    {
      "cell_type": "code",
      "source": [
        "# isolation forest의 경우 실행\n",
        "def get_pred_label(model_pred):\n",
        "  # 1, -1을 0, 1로 변환\n",
        "  model_pred = np.where(model_pred == 1, 0, model_pred)\n",
        "  model_pred = np.where(model_pred == -1, 1, model_pred)\n",
        "  return model_pred\n",
        "\n",
        "test_pred = model.predict(test_features)\n",
        "test_pred = get_pred_label(test_pred)"
      ],
      "metadata": {
        "id": "Ss5EIRLRzXxo"
      },
      "execution_count": null,
      "outputs": []
    },
    {
      "cell_type": "code",
      "source": [
        "# threshold 조정\n",
        "test_pred_proba = model.decision_function(test_features)\n",
        "threshold = 0.04\n",
        "test_pred = (test_pred_proba < threshold) * 1"
      ],
      "metadata": {
        "id": "VKZauwC0Rw2H"
      },
      "execution_count": null,
      "outputs": []
    },
    {
      "cell_type": "markdown",
      "source": [
        "## Submission"
      ],
      "metadata": {
        "id": "8RttcVOdzYSl"
      }
    },
    {
      "cell_type": "code",
      "source": [
        "submit = pd.read_csv('/content/drive/MyDrive/Colab Notebooks/Machine_Anomaly/data/sample_submission.csv')"
      ],
      "metadata": {
        "id": "PiT2LOr7zY3v"
      },
      "execution_count": null,
      "outputs": []
    },
    {
      "cell_type": "code",
      "source": [
        "submit['LABEL'] = test_pred\n",
        "submit.to_csv('mel_hpss_log_160.csv', index=False)"
      ],
      "metadata": {
        "id": "J10S91tTQkoV"
      },
      "execution_count": null,
      "outputs": []
    },
    {
      "cell_type": "code",
      "source": [],
      "metadata": {
        "id": "cHnF7VouQmp0"
      },
      "execution_count": null,
      "outputs": []
    }
  ]
}