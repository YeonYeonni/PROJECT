{
 "cells": [
  {
   "cell_type": "markdown",
   "id": "9198b52a",
   "metadata": {},
   "source": [
    "## Import Module"
   ]
  },
  {
   "cell_type": "code",
   "execution_count": 94,
   "id": "6edc9231",
   "metadata": {},
   "outputs": [],
   "source": [
    "import pandas as pd\n",
    "import numpy as np\n",
    "import matplotlib.pyplot as plt\n",
    "import seaborn as sns\n",
    "from scipy import stats\n",
    "\n",
    "import warnings\n",
    "warnings.filterwarnings(\"ignore\")\n",
    "\n",
    "path = '../dataset/hand_gesture/'\n",
    "\n",
    "train = pd.read_csv(path+'train.csv')\n",
    "test = pd.read_csv(path+'test.csv')\n",
    "sample_submission = pd.read_csv(path+'sample_submission.csv')"
   ]
  },
  {
   "cell_type": "code",
   "execution_count": 95,
   "id": "1a7aa54c",
   "metadata": {},
   "outputs": [
    {
     "data": {
      "text/plain": [
       "<torch._C.Generator at 0x2267e1fdb90>"
      ]
     },
     "execution_count": 95,
     "metadata": {},
     "output_type": "execute_result"
    }
   ],
   "source": [
    "import torch\n",
    "import torch.nn as nn\n",
    "import torch.nn.functional as F\n",
    "import torch.optim as optim\n",
    "from torch.utils.data import DataLoader, TensorDataset\n",
    "\n",
    "import random\n",
    "random.seed(42)\n",
    "torch.manual_seed(42)"
   ]
  },
  {
   "cell_type": "markdown",
   "id": "6b0bd577",
   "metadata": {},
   "source": [
    "## DEVICE"
   ]
  },
  {
   "cell_type": "code",
   "execution_count": 96,
   "id": "4a5ce2e7",
   "metadata": {},
   "outputs": [
    {
     "name": "stdout",
     "output_type": "stream",
     "text": [
      "Using PyTorch version: 1.8.0+cpu  Device: cpu\n"
     ]
    }
   ],
   "source": [
    "if torch.cuda.is_available():\n",
    "    DEVICE = torch.device('cuda')\n",
    "    \n",
    "else:\n",
    "    DEVICE = torch.device('cpu')\n",
    "    \n",
    "print('Using PyTorch version:', torch.__version__, ' Device:', DEVICE)"
   ]
  },
  {
   "cell_type": "code",
   "execution_count": 97,
   "id": "81aec298",
   "metadata": {},
   "outputs": [],
   "source": [
    "batch_size = 16\n",
    "EPOCHS = 20\n",
    "lr = 0.005"
   ]
  },
  {
   "cell_type": "markdown",
   "id": "48e913da",
   "metadata": {},
   "source": [
    "## Data Loader"
   ]
  },
  {
   "cell_type": "code",
   "execution_count": 98,
   "id": "7f4a455e",
   "metadata": {},
   "outputs": [],
   "source": [
    "train_x = train.drop(['id', 'target'], axis=1)\n",
    "test_x = test.drop(['id'], axis=1)"
   ]
  },
  {
   "cell_type": "code",
   "execution_count": 99,
   "id": "abd94b5a",
   "metadata": {},
   "outputs": [],
   "source": [
    "# Tensor로 변환.\n",
    "train_x = torch.tensor(train_x.to_numpy()).float()\n",
    "train_y = torch.tensor(train['target'].to_numpy(), dtype=torch.int64)"
   ]
  },
  {
   "cell_type": "code",
   "execution_count": 100,
   "id": "5d23d51e",
   "metadata": {},
   "outputs": [
    {
     "data": {
      "text/plain": [
       "torch.Size([2335, 32])"
      ]
     },
     "execution_count": 100,
     "metadata": {},
     "output_type": "execute_result"
    }
   ],
   "source": [
    "train_x.shape"
   ]
  },
  {
   "cell_type": "code",
   "execution_count": 101,
   "id": "7ab21ddf",
   "metadata": {},
   "outputs": [
    {
     "data": {
      "text/plain": [
       "torch.Size([2335])"
      ]
     },
     "execution_count": 101,
     "metadata": {},
     "output_type": "execute_result"
    }
   ],
   "source": [
    "train_y.shape"
   ]
  },
  {
   "cell_type": "code",
   "execution_count": 102,
   "id": "24cc59e1",
   "metadata": {},
   "outputs": [],
   "source": [
    "train_dataset = TensorDataset(train_x, train_y)"
   ]
  },
  {
   "cell_type": "code",
   "execution_count": 103,
   "id": "b9a65d7b",
   "metadata": {},
   "outputs": [],
   "source": [
    "# DataLoader 생성.\n",
    "train_loader = torch.utils.data.DataLoader(\n",
    "    dataset = train_dataset,\n",
    "    batch_size = batch_size,\n",
    "    shuffle = True\n",
    ")\n",
    "\n",
    "test_loader = torch.utils.data.DataLoader(\n",
    "    dataset = test_x,\n",
    "    batch_size = batch_size,\n",
    "    shuffle = False\n",
    ")"
   ]
  },
  {
   "cell_type": "code",
   "execution_count": 104,
   "id": "230c58a8",
   "metadata": {},
   "outputs": [
    {
     "name": "stdout",
     "output_type": "stream",
     "text": [
      "torch.Size([16, 32])\n",
      "tensor([0, 2, 3, 2, 0, 0, 1, 1, 0, 1, 2, 2, 1, 0, 0, 0])\n"
     ]
    }
   ],
   "source": [
    "for idx, values in enumerate(train_loader):\n",
    "    if idx > 0:\n",
    "        break\n",
    "        \n",
    "    print(values[0].shape)\n",
    "    print(values[1])"
   ]
  },
  {
   "cell_type": "markdown",
   "id": "415a8c5f",
   "metadata": {},
   "source": [
    "### Models"
   ]
  },
  {
   "cell_type": "code",
   "execution_count": 107,
   "id": "e2034a1e",
   "metadata": {},
   "outputs": [
    {
     "name": "stdout",
     "output_type": "stream",
     "text": [
      "Net(\n",
      "  (fc1): Linear(in_features=32, out_features=64, bias=True)\n",
      "  (fc2): Linear(in_features=64, out_features=128, bias=True)\n",
      "  (fc3): Linear(in_features=128, out_features=4, bias=True)\n",
      "  (batch_norm1): BatchNorm1d(64, eps=1e-05, momentum=0.1, affine=True, track_running_stats=True)\n",
      "  (batch_norm2): BatchNorm1d(128, eps=1e-05, momentum=0.1, affine=True, track_running_stats=True)\n",
      ")\n"
     ]
    }
   ],
   "source": [
    "class Net(nn.Module):\n",
    "    def __init__(self):\n",
    "        super(Net, self).__init__()\n",
    "        self.fc1 = nn.Linear(32, 64)\n",
    "        self.fc2 = nn.Linear(64, 128)\n",
    "        self.fc3 = nn.Linear(128, 4)\n",
    "        self.dropout_prob = 0.2\n",
    "        self.batch_norm1 = nn.BatchNorm1d(64)\n",
    "        self.batch_norm2 = nn.BatchNorm1d(128)\n",
    "        \n",
    "    def forward(self, x):\n",
    "        x = x.view(-1, 32)\n",
    "        \n",
    "        x = self.fc1(x)\n",
    "        x = self.batch_norm1(x)\n",
    "        x = F.relu(x)\n",
    "        x = F.dropout(x, training = self.training, p = self.dropout_prob)\n",
    "        \n",
    "        x = self.fc2(x)\n",
    "        x = self.batch_norm2(x)\n",
    "        x = F.relu(x)\n",
    "        x = F.dropout(x, training = self.training, p = self.dropout_prob)\n",
    "            \n",
    "        x = self.fc3(x)\n",
    "        x = F.log_softmax(x, dim = 1)\n",
    "        return x\n",
    "    \n",
    "model = Net().to(DEVICE)\n",
    "criterion = nn.CrossEntropyLoss()\n",
    "optimizer = torch.optim.Adam(model.parameters(), lr=lr)\n",
    "\n",
    "print(model)"
   ]
  },
  {
   "cell_type": "code",
   "execution_count": 108,
   "id": "a5e76943",
   "metadata": {},
   "outputs": [
    {
     "name": "stdout",
     "output_type": "stream",
     "text": [
      "1 Epoch Loss: 1.234\n",
      "1 Epoch Accuracy: 0.443\n",
      "2 Epoch Loss: 1.025\n",
      "2 Epoch Accuracy: 0.569\n",
      "3 Epoch Loss: 0.908\n",
      "3 Epoch Accuracy: 0.631\n",
      "4 Epoch Loss: 0.859\n",
      "4 Epoch Accuracy: 0.655\n",
      "5 Epoch Loss: 0.820\n",
      "5 Epoch Accuracy: 0.670\n",
      "6 Epoch Loss: 0.792\n",
      "6 Epoch Accuracy: 0.687\n",
      "7 Epoch Loss: 0.767\n",
      "7 Epoch Accuracy: 0.700\n",
      "8 Epoch Loss: 0.717\n",
      "8 Epoch Accuracy: 0.716\n",
      "9 Epoch Loss: 0.760\n",
      "9 Epoch Accuracy: 0.715\n",
      "10 Epoch Loss: 0.722\n",
      "10 Epoch Accuracy: 0.731\n",
      "11 Epoch Loss: 0.719\n",
      "11 Epoch Accuracy: 0.724\n",
      "12 Epoch Loss: 0.678\n",
      "12 Epoch Accuracy: 0.745\n",
      "13 Epoch Loss: 0.708\n",
      "13 Epoch Accuracy: 0.728\n",
      "14 Epoch Loss: 0.687\n",
      "14 Epoch Accuracy: 0.729\n",
      "15 Epoch Loss: 0.664\n",
      "15 Epoch Accuracy: 0.752\n",
      "16 Epoch Loss: 0.660\n",
      "16 Epoch Accuracy: 0.744\n",
      "17 Epoch Loss: 0.639\n",
      "17 Epoch Accuracy: 0.752\n",
      "18 Epoch Loss: 0.635\n",
      "18 Epoch Accuracy: 0.761\n",
      "19 Epoch Loss: 0.652\n",
      "19 Epoch Accuracy: 0.755\n",
      "20 Epoch Loss: 0.629\n",
      "20 Epoch Accuracy: 0.765\n"
     ]
    }
   ],
   "source": [
    "for epoch in range(EPOCHS):\n",
    "    \n",
    "    running_loss = 0.0\n",
    "    accuracy = 0\n",
    "    for i, data in enumerate(train_loader, 0):\n",
    "        inputs, labels = data\n",
    "\n",
    "        optimizer.zero_grad() # 매개변수를 0으로 만듭니다. 매 학습시 초기화해줘야합니다.\n",
    "        outputs = model(inputs) # 입력값을 넣어 순전파를 진행시킵니다.\n",
    "\n",
    "        loss = criterion(outputs, labels) # 모델 출력값와 실제값을 손실함수에 대입합니다.\n",
    "        loss.backward() # 손실함수에서 역전파 수행합니다.\n",
    "        optimizer.step() # 옵티마이저를 사용해 매개변수를 최적화합니다.\n",
    "\n",
    "        running_loss += loss.item()\n",
    "\n",
    "        _, predictions = torch.max(outputs, 1)\n",
    "\n",
    "        for label, prediction in zip(labels, predictions):\n",
    "            if label == prediction:\n",
    "                accuracy = accuracy + 1\n",
    "\n",
    "    \n",
    "    print(f'{epoch + 1} Epoch Loss: {running_loss / i:.3f}')\n",
    "    print(f'{epoch + 1} Epoch Accuracy: {accuracy / (i * 16):.3f}')"
   ]
  },
  {
   "cell_type": "markdown",
   "id": "2183e255",
   "metadata": {},
   "source": [
    "### Pred"
   ]
  },
  {
   "cell_type": "code",
   "execution_count": 112,
   "id": "7cbfe090",
   "metadata": {},
   "outputs": [],
   "source": [
    "test_x = torch.from_numpy(test_x.to_numpy()).float()"
   ]
  },
  {
   "cell_type": "code",
   "execution_count": 113,
   "id": "a919e3f7",
   "metadata": {},
   "outputs": [
    {
     "data": {
      "text/plain": [
       "tensor([1, 0, 1,  ..., 2, 0, 3])"
      ]
     },
     "execution_count": 113,
     "metadata": {},
     "output_type": "execute_result"
    }
   ],
   "source": [
    "model.eval() # 모델을 평가모드로 바꿉니다. dropout이 일어나지 않습니다.\n",
    "\n",
    "with torch.no_grad(): # 이 안의 코드는 가중치 업데이트가 일어나지 않습니다.\n",
    "    outputs = model(test_x)\n",
    "    _, pred = torch.max(outputs, 1)\n",
    "\n",
    "pred"
   ]
  },
  {
   "cell_type": "code",
   "execution_count": 114,
   "id": "31358489",
   "metadata": {},
   "outputs": [
    {
     "data": {
      "text/plain": [
       "1    3716\n",
       "2    2002\n",
       "3    1835\n",
       "0    1790\n",
       "Name: target, dtype: int64"
      ]
     },
     "execution_count": 114,
     "metadata": {},
     "output_type": "execute_result"
    }
   ],
   "source": [
    "sample_submission['target'] = pred.numpy()\n",
    "sample_submission['target'].value_counts()"
   ]
  },
  {
   "cell_type": "code",
   "execution_count": 115,
   "id": "7141083f",
   "metadata": {},
   "outputs": [],
   "source": [
    "sample_submission.to_csv('torch1.csv',index=False)"
   ]
  },
  {
   "cell_type": "code",
   "execution_count": null,
   "id": "29d9ac83",
   "metadata": {},
   "outputs": [],
   "source": []
  }
 ],
 "metadata": {
  "kernelspec": {
   "display_name": "Python 3 (ipykernel)",
   "language": "python",
   "name": "python3"
  },
  "language_info": {
   "codemirror_mode": {
    "name": "ipython",
    "version": 3
   },
   "file_extension": ".py",
   "mimetype": "text/x-python",
   "name": "python",
   "nbconvert_exporter": "python",
   "pygments_lexer": "ipython3",
   "version": "3.8.6"
  }
 },
 "nbformat": 4,
 "nbformat_minor": 5
}
