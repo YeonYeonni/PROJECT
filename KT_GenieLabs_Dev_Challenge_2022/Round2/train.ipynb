{
  "nbformat": 4,
  "nbformat_minor": 0,
  "metadata": {
    "colab": {
      "provenance": [],
      "collapsed_sections": [],
      "machine_shape": "hm"
    },
    "kernelspec": {
      "name": "python3",
      "display_name": "Python 3"
    },
    "language_info": {
      "name": "python"
    },
    "accelerator": "GPU"
  },
  "cells": [
    {
      "cell_type": "code",
      "source": [
        "# 구글 드라이브 연동을 위해 mount.\n",
        "from google.colab import drive\n",
        "drive.mount('/content/drive')"
      ],
      "metadata": {
        "colab": {
          "base_uri": "https://localhost:8080/"
        },
        "id": "FMwPTlOslQb_",
        "outputId": "ff655a29-e00a-47b8-bda1-05be2e8944f2"
      },
      "execution_count": null,
      "outputs": [
        {
          "output_type": "stream",
          "name": "stdout",
          "text": [
            "Mounted at /content/drive\n"
          ]
        }
      ]
    },
    {
      "cell_type": "code",
      "source": [
        "# 라이브러리 불러오기\n",
        "import pandas as pd\n",
        "import numpy as np\n",
        "import matplotlib.pyplot as plt\n",
        "import tensorflow as tf\n",
        "from tensorflow import keras"
      ],
      "metadata": {
        "id": "8qG8kHdylRjX"
      },
      "execution_count": null,
      "outputs": []
    },
    {
      "cell_type": "code",
      "source": [
        "# train 데이터 불러오기\n",
        "train = pd.read_csv('/data/round2_train.csv')"
      ],
      "metadata": {
        "id": "TyRM3Y6FlcAv"
      },
      "execution_count": null,
      "outputs": []
    },
    {
      "cell_type": "code",
      "source": [
        "# P1 ~ P4를 사용해 P5를 예측하는 변수 만들기\n",
        "temp = train.loc[:,['P1','P2','P3','P4','P5']]\n",
        "\n",
        "# P5가 0인 행들은 낙찰되지 않은 데이터이므로 제외하고 추출\n",
        "new_temp = temp.loc[temp['P5'] != 0, :]"
      ],
      "metadata": {
        "id": "aF1w_TJSKmxW"
      },
      "execution_count": null,
      "outputs": []
    },
    {
      "cell_type": "code",
      "source": [
        "# seed 고정\n",
        "tf.random.set_seed(2022)\n",
        "\n",
        "# P5를 예측하는 모델 생성\n",
        "model = keras.models.Sequential([\n",
        "    keras.layers.Input(shape=(4,)),\n",
        "    keras.layers.Dense(64, activation='swish'),\n",
        "    keras.layers.Dense(128, activation='swish'),\n",
        "    keras.layers.Dense(64, activation='swish'),\n",
        "    keras.layers.Dense(1)\n",
        "])\n",
        "\n",
        "model.compile(loss='mse', optimizer=keras.optimizers.Adam(learning_rate=0.0001))"
      ],
      "metadata": {
        "id": "ZEcxliW9G9GH"
      },
      "execution_count": null,
      "outputs": []
    },
    {
      "cell_type": "code",
      "source": [
        "# early stopping 기법으로 성능이 향상되지 않을 때 학습 중단.\n",
        "from tensorflow.keras.callbacks import EarlyStopping, ModelCheckpoint\n",
        "es = EarlyStopping(monitor='val_loss', min_delta=0, patience=10, verbose=1, restore_best_weights=True)\n",
        "\n",
        "# 가장 성능이 좋은 모델을 저장\n",
        "cp = ModelCheckpoint(\n",
        "    filepath='/result/220929best_model.h5',\n",
        "    monitor='val_loss',\n",
        "    verbose=1,\n",
        "    save_best_only=True\n",
        ")"
      ],
      "metadata": {
        "id": "dVo_2RLWHgzX"
      },
      "execution_count": null,
      "outputs": []
    },
    {
      "cell_type": "code",
      "source": [
        "# P5 예측 모델(DNN기반) 학습\n",
        "model.fit(new_temp[['P1','P2','P3','P4']], new_temp[['P5']], epochs=100, verbose=1, validation_split=0.1, callbacks=[es, cp])"
      ],
      "metadata": {
        "colab": {
          "base_uri": "https://localhost:8080/"
        },
        "id": "lhtM7NquIS3Z",
        "outputId": "9ed2969d-d496-42ac-f0d2-44c4a61ffefb"
      },
      "execution_count": null,
      "outputs": [
        {
          "output_type": "stream",
          "name": "stdout",
          "text": [
            "Epoch 1/100\n",
            "76548/76562 [============================>.] - ETA: 0s - loss: 261.5744\n",
            "Epoch 1: val_loss improved from inf to 232.55473, saving model to /content/drive/MyDrive/공모전_본선/220929best_model.h5\n",
            "76562/76562 [==============================] - 161s 2ms/step - loss: 261.5694 - val_loss: 232.5547\n",
            "Epoch 2/100\n",
            "76550/76562 [============================>.] - ETA: 0s - loss: 240.9259\n",
            "Epoch 2: val_loss improved from 232.55473 to 149.41519, saving model to /content/drive/MyDrive/공모전_본선/220929best_model.h5\n",
            "76562/76562 [==============================] - 157s 2ms/step - loss: 240.8994 - val_loss: 149.4152\n",
            "Epoch 3/100\n",
            "76555/76562 [============================>.] - ETA: 0s - loss: 231.2208\n",
            "Epoch 3: val_loss did not improve from 149.41519\n",
            "76562/76562 [==============================] - 156s 2ms/step - loss: 231.2104 - val_loss: 165.0833\n",
            "Epoch 4/100\n",
            "76556/76562 [============================>.] - ETA: 0s - loss: 220.5021\n",
            "Epoch 4: val_loss did not improve from 149.41519\n",
            "76562/76562 [==============================] - 156s 2ms/step - loss: 220.4906 - val_loss: 255.7192\n",
            "Epoch 5/100\n",
            "76551/76562 [============================>.] - ETA: 0s - loss: 228.0564\n",
            "Epoch 5: val_loss did not improve from 149.41519\n",
            "76562/76562 [==============================] - 159s 2ms/step - loss: 228.0447 - val_loss: 216.1906\n",
            "Epoch 6/100\n",
            "76561/76562 [============================>.] - ETA: 0s - loss: 263.1320\n",
            "Epoch 6: val_loss did not improve from 149.41519\n",
            "76562/76562 [==============================] - 156s 2ms/step - loss: 263.1317 - val_loss: 169.6688\n",
            "Epoch 7/100\n",
            "76547/76562 [============================>.] - ETA: 0s - loss: 225.7838\n",
            "Epoch 7: val_loss did not improve from 149.41519\n",
            "76562/76562 [==============================] - 156s 2ms/step - loss: 225.7736 - val_loss: 237.7424\n",
            "Epoch 8/100\n",
            "76542/76562 [============================>.] - ETA: 0s - loss: 202.0059\n",
            "Epoch 8: val_loss did not improve from 149.41519\n",
            "76562/76562 [==============================] - 156s 2ms/step - loss: 201.9787 - val_loss: 185.8487\n",
            "Epoch 9/100\n",
            "76553/76562 [============================>.] - ETA: 0s - loss: 208.5541\n",
            "Epoch 9: val_loss did not improve from 149.41519\n",
            "76562/76562 [==============================] - 156s 2ms/step - loss: 208.5425 - val_loss: 204.6965\n",
            "Epoch 10/100\n",
            "76537/76562 [============================>.] - ETA: 0s - loss: 219.5766\n",
            "Epoch 10: val_loss did not improve from 149.41519\n",
            "76562/76562 [==============================] - 156s 2ms/step - loss: 220.2857 - val_loss: 1055.7174\n",
            "Epoch 11/100\n",
            "76540/76562 [============================>.] - ETA: 0s - loss: 202.1981\n",
            "Epoch 11: val_loss did not improve from 149.41519\n",
            "76562/76562 [==============================] - 156s 2ms/step - loss: 202.1680 - val_loss: 152.3956\n",
            "Epoch 12/100\n",
            "76538/76562 [============================>.] - ETA: 0s - loss: 255.8887Restoring model weights from the end of the best epoch: 2.\n",
            "\n",
            "Epoch 12: val_loss did not improve from 149.41519\n",
            "76562/76562 [==============================] - 156s 2ms/step - loss: 255.8447 - val_loss: 182.7019\n",
            "Epoch 12: early stopping\n"
          ]
        },
        {
          "output_type": "execute_result",
          "data": {
            "text/plain": [
              "<keras.callbacks.History at 0x7f229649cd10>"
            ]
          },
          "metadata": {},
          "execution_count": 17
        }
      ]
    },
    {
      "cell_type": "code",
      "source": [
        "# 모델 저장 -> test 전처리에서 사용하기 위함\n",
        "model.load_weights('/result/220929best_model.h5')\n",
        "model.save('/result/p5_predict_model_final.h5')"
      ],
      "metadata": {
        "id": "ISbtPur6fH5T"
      },
      "execution_count": null,
      "outputs": []
    },
    {
      "cell_type": "code",
      "source": [
        "# 모델 불러오기 -> \n",
        "from keras.models import Sequential, load_model\n",
        "model = load_model('/result/p5_predict_model_final.h5')"
      ],
      "metadata": {
        "id": "hif7bdNefOIY"
      },
      "execution_count": null,
      "outputs": []
    },
    {
      "cell_type": "code",
      "source": [
        "# P1 ~ P4로 P5 예측\n",
        "p5_pred = model.predict(train[['P1','P2','P3','P4']])"
      ],
      "metadata": {
        "id": "ZU-Y9hRofWtk"
      },
      "execution_count": null,
      "outputs": []
    },
    {
      "cell_type": "code",
      "source": [
        "# 예측한 P5를 새로운 변수로 추가\n",
        "train['pred_p5'] = p5_pred"
      ],
      "metadata": {
        "id": "Hp_256WDkXv7"
      },
      "execution_count": null,
      "outputs": []
    },
    {
      "cell_type": "code",
      "source": [
        "# Linear Regression 모델로 P5 예측\n",
        "from sklearn.linear_model import LinearRegression\n",
        "from sklearn.model_selection import train_test_split\n",
        "model_lr = LinearRegression()\n",
        "x = new_temp.drop(columns='P5')\n",
        "y = new_temp.loc[:, 'P5']\n",
        "x_train_temp, x_test_temp, y_train_temp, y_test_temp = train_test_split(x, y, test_size=0.1, random_state=2022)\n",
        "\n",
        "# P5를 예측하는 Linear Regression 모델 학습\n",
        "model_lr.fit(x_train_temp, y_train_temp)"
      ],
      "metadata": {
        "colab": {
          "base_uri": "https://localhost:8080/"
        },
        "id": "ihhsKtpAKjiW",
        "outputId": "2863ae71-d8f2-4f78-af04-1a7a263e62a7"
      },
      "execution_count": null,
      "outputs": [
        {
          "output_type": "execute_result",
          "data": {
            "text/plain": [
              "LinearRegression()"
            ]
          },
          "metadata": {},
          "execution_count": 23
        }
      ]
    },
    {
      "cell_type": "code",
      "source": [
        "# Linear Regression 모델 저장 -> test 전처리를 위함\n",
        "from joblib import dump, load\n",
        "dump(model_lr, '/result/model_lr_final.joblib') "
      ],
      "metadata": {
        "colab": {
          "base_uri": "https://localhost:8080/"
        },
        "id": "ntrwvSR-Grjk",
        "outputId": "a7a43d6c-5cd7-4157-bbc3-95b3ec372d6f"
      },
      "execution_count": null,
      "outputs": [
        {
          "output_type": "execute_result",
          "data": {
            "text/plain": [
              "['/content/drive/MyDrive/공모전_본선/model_lr_final.joblib']"
            ]
          },
          "metadata": {},
          "execution_count": 24
        }
      ]
    },
    {
      "cell_type": "code",
      "source": [
        "# 모델 불러오기\n",
        "from joblib import dump, load\n",
        "model_lr = load('/result/model_lr_final.joblib')"
      ],
      "metadata": {
        "id": "B1JCG7VQ0YEA"
      },
      "execution_count": null,
      "outputs": []
    },
    {
      "cell_type": "code",
      "source": [
        "# P1~P4로 P5 예측\n",
        "new_feat = model_lr.predict(train[['P1','P2','P3','P4']])\n",
        "new_feat"
      ],
      "metadata": {
        "colab": {
          "base_uri": "https://localhost:8080/"
        },
        "id": "Ebl0tWWBKt0g",
        "outputId": "d5b7a7d9-48f3-4763-8629-9e497c7cbf58"
      },
      "execution_count": null,
      "outputs": [
        {
          "output_type": "execute_result",
          "data": {
            "text/plain": [
              "array([ 40.22388712, 603.33614488, 268.32827486, ..., 168.57262526,\n",
              "        43.92051556,  55.81634806])"
            ]
          },
          "metadata": {},
          "execution_count": 26
        }
      ]
    },
    {
      "cell_type": "code",
      "source": [
        "# 새로운 feature 1 행 추가\n",
        "\n",
        "# P5 예측 값\n",
        "train['new_feature'] = new_feat\n",
        "\n",
        "# 새로운 feature 2 행 추가\n",
        "\n",
        "# P4는 AX bidprice P2, P3는 bidfloor라고 가정.\n",
        "# AX bidprice가 bidfloor들보다 더 클 때만 낙찰에 성공할 수 있다고 생각!\n",
        "\n",
        "# AX bidprice가 bidfloor값들보다 클 때 1, bidfloor가 하나라도 bidprice보다 크다면 0\n",
        "train['new_feature2'] = 0\n",
        "train.loc[(train['P2'] > train['P4']) | (train['P3'] > train['P4']), 'new_feature2'] = 0\n",
        "train.loc[(train['P2'] < train['P4']) & (train['P3'] < train['P4']), 'new_feature2'] = 1\n",
        "\n",
        "# 새로운 feature 3, 4 행 추가\n",
        "\n",
        "# 새로운 feature 2는 범주형 데이터이므로 수치형 데이터도 추가해주기 위해 feature 2 생성원리와 동일한 이유로\n",
        "# feature 3, 4, 5, 6, 7 생성\n",
        "train['P4 - P3'] = train['P4'] - train['P3']\n",
        "train['P4 - P2'] = train['P4'] - train['P2']\n",
        "train['P1 - P2'] = train['P1'] - train['P2']\n",
        "train['P1 - P3'] = train['P1'] - train['P3']\n",
        "train['P2 - P3'] = train['P2'] - train['P3']"
      ],
      "metadata": {
        "id": "3Ka29eIVKvG_"
      },
      "execution_count": null,
      "outputs": []
    },
    {
      "cell_type": "code",
      "source": [
        "train"
      ],
      "metadata": {
        "colab": {
          "base_uri": "https://localhost:8080/",
          "height": 540
        },
        "id": "aP9E1vL0VEaz",
        "outputId": "00365d44-82e3-4276-f9c1-6a6787f30dd8"
      },
      "execution_count": null,
      "outputs": [
        {
          "output_type": "execute_result",
          "data": {
            "text/plain": [
              "                     시각                                               ADID  \\\n",
              "0        20220403000000  45503fc5d8d3a06832a087581ff6b6b4937b4d41d2d2cd...   \n",
              "1        20220403000000  59ae8bfa45031b28d30dc1ad6486d702148b1fbd461fd5...   \n",
              "2        20220403000000  c57351c77526224145cc7a5f48de890754943c71363d80...   \n",
              "3        20220403000000  93aca0b9a68e60ff423feeeae48d02007fab3920bc5d4f...   \n",
              "4        20220403000000  92a710e711b4d911c9c20ce04c6ce0381a3fbd9dcb3ba3...   \n",
              "...                 ...                                                ...   \n",
              "9149649  20220410132810  02dd628573a4c42a339c20a317ac7c7ae8774b50345465...   \n",
              "9149650  20220410132810  be828aa948d49f5a36a0df9730d7603b2df8876d3a706d...   \n",
              "9149651  20220410132810  bd520bad60995fd2c5f82d385d0168a2b2ad4268c82a95...   \n",
              "9149652  20220410132810  507c42b839168430b334a9e20d02e781f88ba4642b7d59...   \n",
              "9149653  20220410132810  fb61d80dda64b766c4b5161e5f97307894d871a8c4b264...   \n",
              "\n",
              "         ADID 타입                                             DSP ID  \\\n",
              "0              1  d22127d7ef82d6f222558447b65f1fb63c36a55d71d0c3...   \n",
              "1              1  becd0e5686fae9c4a1885a950817a70f9ae3c437d32a60...   \n",
              "2              5  becd0e5686fae9c4a1885a950817a70f9ae3c437d32a60...   \n",
              "3              1  d22127d7ef82d6f222558447b65f1fb63c36a55d71d0c3...   \n",
              "4              1  d22127d7ef82d6f222558447b65f1fb63c36a55d71d0c3...   \n",
              "...          ...                                                ...   \n",
              "9149649        1  becd0e5686fae9c4a1885a950817a70f9ae3c437d32a60...   \n",
              "9149650        1  becd0e5686fae9c4a1885a950817a70f9ae3c437d32a60...   \n",
              "9149651        1  95369047233b18ea02be6d42399d7f6a2262834ae5d066...   \n",
              "9149652        1  6b8a464a76ce5580d84bc6a87ca1179b4088d3c46d3952...   \n",
              "9149653        1  6d11d21f6d5f63bb625438586029f79511d0eac263ad81...   \n",
              "\n",
              "                                                     매체 ID  \\\n",
              "0        03eef1b13012d013345f17def773eceda258d8d9829484...   \n",
              "1        d64dbe2039165cce22fae7c7f16259596a196f149f08e7...   \n",
              "2        75cb5f369879cd6fa900bea129c1037432a00d6ae94128...   \n",
              "3        03eef1b13012d013345f17def773eceda258d8d9829484...   \n",
              "4        03eef1b13012d013345f17def773eceda258d8d9829484...   \n",
              "...                                                    ...   \n",
              "9149649  554b9474090ae6e25f9c6b93294eb85a2ef720ee49476d...   \n",
              "9149650  554b9474090ae6e25f9c6b93294eb85a2ef720ee49476d...   \n",
              "9149651  f50daedc59d7a0d361e9bbc543ed3f0b9276578b2aa43e...   \n",
              "9149652  8b604a9f98507d296e404198d5aea33a11e4d4e0146a83...   \n",
              "9149653  554b9474090ae6e25f9c6b93294eb85a2ef720ee49476d...   \n",
              "\n",
              "                                                   애드유닛 ID  플랫폼  OS 종류  \\\n",
              "0        4a3406328504b21257aa66fc138ba78668bef318b361f9...    1      1   \n",
              "1        a2f05b9f2662f44757f69656801c4c0bd83e95caa10ddb...    1      1   \n",
              "2        40f3cb27c781d1130b7565836803f952a2e327e6db72ae...    3      1   \n",
              "3        4a3406328504b21257aa66fc138ba78668bef318b361f9...    1      1   \n",
              "4        4a3406328504b21257aa66fc138ba78668bef318b361f9...    1      1   \n",
              "...                                                    ...  ...    ...   \n",
              "9149649  dc83186485f48c299c25f841bc8b866f4b80d901d825fe...    1      1   \n",
              "9149650  dc83186485f48c299c25f841bc8b866f4b80d901d825fe...    1      1   \n",
              "9149651  de36c9fee3be8d1c87d6d4223689334ada3bb37ddef18e...    3      1   \n",
              "9149652  aaebc0f56ed3262863bc83c0b24458856b41f5c654274c...    1      1   \n",
              "9149653  dc83186485f48c299c25f841bc8b866f4b80d901d825fe...    1      1   \n",
              "\n",
              "         사이즈 ID                                              노출 ID  ...  \\\n",
              "0             3  eb2cb8788b9462b49c35c1ca9a4b5828b9153274041a3a...  ...   \n",
              "1             2  c215404374628df7ea645a3cbc8a40df8972ca95b46f30...  ...   \n",
              "2             3  ed2e5996d4f0f524177eb84050fb10680899d93dc8d1fe...  ...   \n",
              "3             3  71d399d29493273a7b33fd13344c6ba7764b5e336df44a...  ...   \n",
              "4             3  003d0bfc2d6181540c0343eb1b5b242b7219c1878d581e...  ...   \n",
              "...         ...                                                ...  ...   \n",
              "9149649       1  5f70dcdb57e5a3d9870cf1f73123ce3915ac79eaddb0ab...  ...   \n",
              "9149650       1  74548a86ca5b5c68e198e054a05b4eb355ae4739ee13f8...  ...   \n",
              "9149651       1  ff0f0cf934dc283da81964368a3040d03ade3a82eddf12...  ...   \n",
              "9149652       1  fd191cc4babca4971e871759a0c47850252cb6bbade481...  ...   \n",
              "9149653       1  377ce7fa07133c181a9f2f4d3a3fd81f34cab5879d19ba...  ...   \n",
              "\n",
              "                 P5 winning     pred_p5 new_feature  new_feature2     P4 - P3  \\\n",
              "0          0.000000       0   39.553089   40.223887             0    9.121389   \n",
              "1        590.973600       1  611.452454  603.336145             1  686.952000   \n",
              "2        255.780012       1  263.828583  268.328275             1   45.796800   \n",
              "3          0.000000       0   39.553089   40.223887             0    9.121389   \n",
              "4          0.000000       0   39.553089   40.223887             0    9.121389   \n",
              "...             ...     ...         ...         ...           ...         ...   \n",
              "9149649    0.000000       0   39.542450   42.314951             0    6.925929   \n",
              "9149650    0.000000       0   63.752773   62.384599             1   31.240320   \n",
              "9149651    0.000000       0  165.502457  168.572625             1   63.080952   \n",
              "9149652    0.000000       0   40.985077   43.920516             0    8.871072   \n",
              "9149653    0.000000       0   52.440105   55.816348             1   23.282880   \n",
              "\n",
              "            P4 - P2      P1 - P2      P1 - P3   P2 - P3  \n",
              "0         -3.667611    15.901556    28.690556  12.78900  \n",
              "1        674.163000  1156.491000  1169.280000  12.78900  \n",
              "2         39.396210   232.327410   238.728000   6.40059  \n",
              "3         -3.667611    15.901556    28.690556  12.78900  \n",
              "4         -3.667611    15.901556    28.690556  12.78900  \n",
              "...             ...          ...          ...       ...  \n",
              "9149649   -5.968071    23.209215    36.103215  12.89400  \n",
              "9149650   18.346320    63.733200    76.627200  12.89400  \n",
              "9149651   65.880792   189.801427   187.001587  -2.79984  \n",
              "9149652   -4.022928    26.451120    39.345120  12.89400  \n",
              "9149653   10.388880    50.470800    63.364800  12.89400  \n",
              "\n",
              "[9149654 rows x 33 columns]"
            ],
            "text/html": [
              "\n",
              "  <div id=\"df-a0ac875b-dc8c-4b6d-a609-5be146651968\">\n",
              "    <div class=\"colab-df-container\">\n",
              "      <div>\n",
              "<style scoped>\n",
              "    .dataframe tbody tr th:only-of-type {\n",
              "        vertical-align: middle;\n",
              "    }\n",
              "\n",
              "    .dataframe tbody tr th {\n",
              "        vertical-align: top;\n",
              "    }\n",
              "\n",
              "    .dataframe thead th {\n",
              "        text-align: right;\n",
              "    }\n",
              "</style>\n",
              "<table border=\"1\" class=\"dataframe\">\n",
              "  <thead>\n",
              "    <tr style=\"text-align: right;\">\n",
              "      <th></th>\n",
              "      <th>시각</th>\n",
              "      <th>ADID</th>\n",
              "      <th>ADID 타입</th>\n",
              "      <th>DSP ID</th>\n",
              "      <th>매체 ID</th>\n",
              "      <th>애드유닛 ID</th>\n",
              "      <th>플랫폼</th>\n",
              "      <th>OS 종류</th>\n",
              "      <th>사이즈 ID</th>\n",
              "      <th>노출 ID</th>\n",
              "      <th>...</th>\n",
              "      <th>P5</th>\n",
              "      <th>winning</th>\n",
              "      <th>pred_p5</th>\n",
              "      <th>new_feature</th>\n",
              "      <th>new_feature2</th>\n",
              "      <th>P4 - P3</th>\n",
              "      <th>P4 - P2</th>\n",
              "      <th>P1 - P2</th>\n",
              "      <th>P1 - P3</th>\n",
              "      <th>P2 - P3</th>\n",
              "    </tr>\n",
              "  </thead>\n",
              "  <tbody>\n",
              "    <tr>\n",
              "      <th>0</th>\n",
              "      <td>20220403000000</td>\n",
              "      <td>45503fc5d8d3a06832a087581ff6b6b4937b4d41d2d2cd...</td>\n",
              "      <td>1</td>\n",
              "      <td>d22127d7ef82d6f222558447b65f1fb63c36a55d71d0c3...</td>\n",
              "      <td>03eef1b13012d013345f17def773eceda258d8d9829484...</td>\n",
              "      <td>4a3406328504b21257aa66fc138ba78668bef318b361f9...</td>\n",
              "      <td>1</td>\n",
              "      <td>1</td>\n",
              "      <td>3</td>\n",
              "      <td>eb2cb8788b9462b49c35c1ca9a4b5828b9153274041a3a...</td>\n",
              "      <td>...</td>\n",
              "      <td>0.000000</td>\n",
              "      <td>0</td>\n",
              "      <td>39.553089</td>\n",
              "      <td>40.223887</td>\n",
              "      <td>0</td>\n",
              "      <td>9.121389</td>\n",
              "      <td>-3.667611</td>\n",
              "      <td>15.901556</td>\n",
              "      <td>28.690556</td>\n",
              "      <td>12.78900</td>\n",
              "    </tr>\n",
              "    <tr>\n",
              "      <th>1</th>\n",
              "      <td>20220403000000</td>\n",
              "      <td>59ae8bfa45031b28d30dc1ad6486d702148b1fbd461fd5...</td>\n",
              "      <td>1</td>\n",
              "      <td>becd0e5686fae9c4a1885a950817a70f9ae3c437d32a60...</td>\n",
              "      <td>d64dbe2039165cce22fae7c7f16259596a196f149f08e7...</td>\n",
              "      <td>a2f05b9f2662f44757f69656801c4c0bd83e95caa10ddb...</td>\n",
              "      <td>1</td>\n",
              "      <td>1</td>\n",
              "      <td>2</td>\n",
              "      <td>c215404374628df7ea645a3cbc8a40df8972ca95b46f30...</td>\n",
              "      <td>...</td>\n",
              "      <td>590.973600</td>\n",
              "      <td>1</td>\n",
              "      <td>611.452454</td>\n",
              "      <td>603.336145</td>\n",
              "      <td>1</td>\n",
              "      <td>686.952000</td>\n",
              "      <td>674.163000</td>\n",
              "      <td>1156.491000</td>\n",
              "      <td>1169.280000</td>\n",
              "      <td>12.78900</td>\n",
              "    </tr>\n",
              "    <tr>\n",
              "      <th>2</th>\n",
              "      <td>20220403000000</td>\n",
              "      <td>c57351c77526224145cc7a5f48de890754943c71363d80...</td>\n",
              "      <td>5</td>\n",
              "      <td>becd0e5686fae9c4a1885a950817a70f9ae3c437d32a60...</td>\n",
              "      <td>75cb5f369879cd6fa900bea129c1037432a00d6ae94128...</td>\n",
              "      <td>40f3cb27c781d1130b7565836803f952a2e327e6db72ae...</td>\n",
              "      <td>3</td>\n",
              "      <td>1</td>\n",
              "      <td>3</td>\n",
              "      <td>ed2e5996d4f0f524177eb84050fb10680899d93dc8d1fe...</td>\n",
              "      <td>...</td>\n",
              "      <td>255.780012</td>\n",
              "      <td>1</td>\n",
              "      <td>263.828583</td>\n",
              "      <td>268.328275</td>\n",
              "      <td>1</td>\n",
              "      <td>45.796800</td>\n",
              "      <td>39.396210</td>\n",
              "      <td>232.327410</td>\n",
              "      <td>238.728000</td>\n",
              "      <td>6.40059</td>\n",
              "    </tr>\n",
              "    <tr>\n",
              "      <th>3</th>\n",
              "      <td>20220403000000</td>\n",
              "      <td>93aca0b9a68e60ff423feeeae48d02007fab3920bc5d4f...</td>\n",
              "      <td>1</td>\n",
              "      <td>d22127d7ef82d6f222558447b65f1fb63c36a55d71d0c3...</td>\n",
              "      <td>03eef1b13012d013345f17def773eceda258d8d9829484...</td>\n",
              "      <td>4a3406328504b21257aa66fc138ba78668bef318b361f9...</td>\n",
              "      <td>1</td>\n",
              "      <td>1</td>\n",
              "      <td>3</td>\n",
              "      <td>71d399d29493273a7b33fd13344c6ba7764b5e336df44a...</td>\n",
              "      <td>...</td>\n",
              "      <td>0.000000</td>\n",
              "      <td>0</td>\n",
              "      <td>39.553089</td>\n",
              "      <td>40.223887</td>\n",
              "      <td>0</td>\n",
              "      <td>9.121389</td>\n",
              "      <td>-3.667611</td>\n",
              "      <td>15.901556</td>\n",
              "      <td>28.690556</td>\n",
              "      <td>12.78900</td>\n",
              "    </tr>\n",
              "    <tr>\n",
              "      <th>4</th>\n",
              "      <td>20220403000000</td>\n",
              "      <td>92a710e711b4d911c9c20ce04c6ce0381a3fbd9dcb3ba3...</td>\n",
              "      <td>1</td>\n",
              "      <td>d22127d7ef82d6f222558447b65f1fb63c36a55d71d0c3...</td>\n",
              "      <td>03eef1b13012d013345f17def773eceda258d8d9829484...</td>\n",
              "      <td>4a3406328504b21257aa66fc138ba78668bef318b361f9...</td>\n",
              "      <td>1</td>\n",
              "      <td>1</td>\n",
              "      <td>3</td>\n",
              "      <td>003d0bfc2d6181540c0343eb1b5b242b7219c1878d581e...</td>\n",
              "      <td>...</td>\n",
              "      <td>0.000000</td>\n",
              "      <td>0</td>\n",
              "      <td>39.553089</td>\n",
              "      <td>40.223887</td>\n",
              "      <td>0</td>\n",
              "      <td>9.121389</td>\n",
              "      <td>-3.667611</td>\n",
              "      <td>15.901556</td>\n",
              "      <td>28.690556</td>\n",
              "      <td>12.78900</td>\n",
              "    </tr>\n",
              "    <tr>\n",
              "      <th>...</th>\n",
              "      <td>...</td>\n",
              "      <td>...</td>\n",
              "      <td>...</td>\n",
              "      <td>...</td>\n",
              "      <td>...</td>\n",
              "      <td>...</td>\n",
              "      <td>...</td>\n",
              "      <td>...</td>\n",
              "      <td>...</td>\n",
              "      <td>...</td>\n",
              "      <td>...</td>\n",
              "      <td>...</td>\n",
              "      <td>...</td>\n",
              "      <td>...</td>\n",
              "      <td>...</td>\n",
              "      <td>...</td>\n",
              "      <td>...</td>\n",
              "      <td>...</td>\n",
              "      <td>...</td>\n",
              "      <td>...</td>\n",
              "      <td>...</td>\n",
              "    </tr>\n",
              "    <tr>\n",
              "      <th>9149649</th>\n",
              "      <td>20220410132810</td>\n",
              "      <td>02dd628573a4c42a339c20a317ac7c7ae8774b50345465...</td>\n",
              "      <td>1</td>\n",
              "      <td>becd0e5686fae9c4a1885a950817a70f9ae3c437d32a60...</td>\n",
              "      <td>554b9474090ae6e25f9c6b93294eb85a2ef720ee49476d...</td>\n",
              "      <td>dc83186485f48c299c25f841bc8b866f4b80d901d825fe...</td>\n",
              "      <td>1</td>\n",
              "      <td>1</td>\n",
              "      <td>1</td>\n",
              "      <td>5f70dcdb57e5a3d9870cf1f73123ce3915ac79eaddb0ab...</td>\n",
              "      <td>...</td>\n",
              "      <td>0.000000</td>\n",
              "      <td>0</td>\n",
              "      <td>39.542450</td>\n",
              "      <td>42.314951</td>\n",
              "      <td>0</td>\n",
              "      <td>6.925929</td>\n",
              "      <td>-5.968071</td>\n",
              "      <td>23.209215</td>\n",
              "      <td>36.103215</td>\n",
              "      <td>12.89400</td>\n",
              "    </tr>\n",
              "    <tr>\n",
              "      <th>9149650</th>\n",
              "      <td>20220410132810</td>\n",
              "      <td>be828aa948d49f5a36a0df9730d7603b2df8876d3a706d...</td>\n",
              "      <td>1</td>\n",
              "      <td>becd0e5686fae9c4a1885a950817a70f9ae3c437d32a60...</td>\n",
              "      <td>554b9474090ae6e25f9c6b93294eb85a2ef720ee49476d...</td>\n",
              "      <td>dc83186485f48c299c25f841bc8b866f4b80d901d825fe...</td>\n",
              "      <td>1</td>\n",
              "      <td>1</td>\n",
              "      <td>1</td>\n",
              "      <td>74548a86ca5b5c68e198e054a05b4eb355ae4739ee13f8...</td>\n",
              "      <td>...</td>\n",
              "      <td>0.000000</td>\n",
              "      <td>0</td>\n",
              "      <td>63.752773</td>\n",
              "      <td>62.384599</td>\n",
              "      <td>1</td>\n",
              "      <td>31.240320</td>\n",
              "      <td>18.346320</td>\n",
              "      <td>63.733200</td>\n",
              "      <td>76.627200</td>\n",
              "      <td>12.89400</td>\n",
              "    </tr>\n",
              "    <tr>\n",
              "      <th>9149651</th>\n",
              "      <td>20220410132810</td>\n",
              "      <td>bd520bad60995fd2c5f82d385d0168a2b2ad4268c82a95...</td>\n",
              "      <td>1</td>\n",
              "      <td>95369047233b18ea02be6d42399d7f6a2262834ae5d066...</td>\n",
              "      <td>f50daedc59d7a0d361e9bbc543ed3f0b9276578b2aa43e...</td>\n",
              "      <td>de36c9fee3be8d1c87d6d4223689334ada3bb37ddef18e...</td>\n",
              "      <td>3</td>\n",
              "      <td>1</td>\n",
              "      <td>1</td>\n",
              "      <td>ff0f0cf934dc283da81964368a3040d03ade3a82eddf12...</td>\n",
              "      <td>...</td>\n",
              "      <td>0.000000</td>\n",
              "      <td>0</td>\n",
              "      <td>165.502457</td>\n",
              "      <td>168.572625</td>\n",
              "      <td>1</td>\n",
              "      <td>63.080952</td>\n",
              "      <td>65.880792</td>\n",
              "      <td>189.801427</td>\n",
              "      <td>187.001587</td>\n",
              "      <td>-2.79984</td>\n",
              "    </tr>\n",
              "    <tr>\n",
              "      <th>9149652</th>\n",
              "      <td>20220410132810</td>\n",
              "      <td>507c42b839168430b334a9e20d02e781f88ba4642b7d59...</td>\n",
              "      <td>1</td>\n",
              "      <td>6b8a464a76ce5580d84bc6a87ca1179b4088d3c46d3952...</td>\n",
              "      <td>8b604a9f98507d296e404198d5aea33a11e4d4e0146a83...</td>\n",
              "      <td>aaebc0f56ed3262863bc83c0b24458856b41f5c654274c...</td>\n",
              "      <td>1</td>\n",
              "      <td>1</td>\n",
              "      <td>1</td>\n",
              "      <td>fd191cc4babca4971e871759a0c47850252cb6bbade481...</td>\n",
              "      <td>...</td>\n",
              "      <td>0.000000</td>\n",
              "      <td>0</td>\n",
              "      <td>40.985077</td>\n",
              "      <td>43.920516</td>\n",
              "      <td>0</td>\n",
              "      <td>8.871072</td>\n",
              "      <td>-4.022928</td>\n",
              "      <td>26.451120</td>\n",
              "      <td>39.345120</td>\n",
              "      <td>12.89400</td>\n",
              "    </tr>\n",
              "    <tr>\n",
              "      <th>9149653</th>\n",
              "      <td>20220410132810</td>\n",
              "      <td>fb61d80dda64b766c4b5161e5f97307894d871a8c4b264...</td>\n",
              "      <td>1</td>\n",
              "      <td>6d11d21f6d5f63bb625438586029f79511d0eac263ad81...</td>\n",
              "      <td>554b9474090ae6e25f9c6b93294eb85a2ef720ee49476d...</td>\n",
              "      <td>dc83186485f48c299c25f841bc8b866f4b80d901d825fe...</td>\n",
              "      <td>1</td>\n",
              "      <td>1</td>\n",
              "      <td>1</td>\n",
              "      <td>377ce7fa07133c181a9f2f4d3a3fd81f34cab5879d19ba...</td>\n",
              "      <td>...</td>\n",
              "      <td>0.000000</td>\n",
              "      <td>0</td>\n",
              "      <td>52.440105</td>\n",
              "      <td>55.816348</td>\n",
              "      <td>1</td>\n",
              "      <td>23.282880</td>\n",
              "      <td>10.388880</td>\n",
              "      <td>50.470800</td>\n",
              "      <td>63.364800</td>\n",
              "      <td>12.89400</td>\n",
              "    </tr>\n",
              "  </tbody>\n",
              "</table>\n",
              "<p>9149654 rows × 33 columns</p>\n",
              "</div>\n",
              "      <button class=\"colab-df-convert\" onclick=\"convertToInteractive('df-a0ac875b-dc8c-4b6d-a609-5be146651968')\"\n",
              "              title=\"Convert this dataframe to an interactive table.\"\n",
              "              style=\"display:none;\">\n",
              "        \n",
              "  <svg xmlns=\"http://www.w3.org/2000/svg\" height=\"24px\"viewBox=\"0 0 24 24\"\n",
              "       width=\"24px\">\n",
              "    <path d=\"M0 0h24v24H0V0z\" fill=\"none\"/>\n",
              "    <path d=\"M18.56 5.44l.94 2.06.94-2.06 2.06-.94-2.06-.94-.94-2.06-.94 2.06-2.06.94zm-11 1L8.5 8.5l.94-2.06 2.06-.94-2.06-.94L8.5 2.5l-.94 2.06-2.06.94zm10 10l.94 2.06.94-2.06 2.06-.94-2.06-.94-.94-2.06-.94 2.06-2.06.94z\"/><path d=\"M17.41 7.96l-1.37-1.37c-.4-.4-.92-.59-1.43-.59-.52 0-1.04.2-1.43.59L10.3 9.45l-7.72 7.72c-.78.78-.78 2.05 0 2.83L4 21.41c.39.39.9.59 1.41.59.51 0 1.02-.2 1.41-.59l7.78-7.78 2.81-2.81c.8-.78.8-2.07 0-2.86zM5.41 20L4 18.59l7.72-7.72 1.47 1.35L5.41 20z\"/>\n",
              "  </svg>\n",
              "      </button>\n",
              "      \n",
              "  <style>\n",
              "    .colab-df-container {\n",
              "      display:flex;\n",
              "      flex-wrap:wrap;\n",
              "      gap: 12px;\n",
              "    }\n",
              "\n",
              "    .colab-df-convert {\n",
              "      background-color: #E8F0FE;\n",
              "      border: none;\n",
              "      border-radius: 50%;\n",
              "      cursor: pointer;\n",
              "      display: none;\n",
              "      fill: #1967D2;\n",
              "      height: 32px;\n",
              "      padding: 0 0 0 0;\n",
              "      width: 32px;\n",
              "    }\n",
              "\n",
              "    .colab-df-convert:hover {\n",
              "      background-color: #E2EBFA;\n",
              "      box-shadow: 0px 1px 2px rgba(60, 64, 67, 0.3), 0px 1px 3px 1px rgba(60, 64, 67, 0.15);\n",
              "      fill: #174EA6;\n",
              "    }\n",
              "\n",
              "    [theme=dark] .colab-df-convert {\n",
              "      background-color: #3B4455;\n",
              "      fill: #D2E3FC;\n",
              "    }\n",
              "\n",
              "    [theme=dark] .colab-df-convert:hover {\n",
              "      background-color: #434B5C;\n",
              "      box-shadow: 0px 1px 3px 1px rgba(0, 0, 0, 0.15);\n",
              "      filter: drop-shadow(0px 1px 2px rgba(0, 0, 0, 0.3));\n",
              "      fill: #FFFFFF;\n",
              "    }\n",
              "  </style>\n",
              "\n",
              "      <script>\n",
              "        const buttonEl =\n",
              "          document.querySelector('#df-a0ac875b-dc8c-4b6d-a609-5be146651968 button.colab-df-convert');\n",
              "        buttonEl.style.display =\n",
              "          google.colab.kernel.accessAllowed ? 'block' : 'none';\n",
              "\n",
              "        async function convertToInteractive(key) {\n",
              "          const element = document.querySelector('#df-a0ac875b-dc8c-4b6d-a609-5be146651968');\n",
              "          const dataTable =\n",
              "            await google.colab.kernel.invokeFunction('convertToInteractive',\n",
              "                                                     [key], {});\n",
              "          if (!dataTable) return;\n",
              "\n",
              "          const docLinkHtml = 'Like what you see? Visit the ' +\n",
              "            '<a target=\"_blank\" href=https://colab.research.google.com/notebooks/data_table.ipynb>data table notebook</a>'\n",
              "            + ' to learn more about interactive tables.';\n",
              "          element.innerHTML = '';\n",
              "          dataTable['output_type'] = 'display_data';\n",
              "          await google.colab.output.renderOutput(dataTable, element);\n",
              "          const docLink = document.createElement('div');\n",
              "          docLink.innerHTML = docLinkHtml;\n",
              "          element.appendChild(docLink);\n",
              "        }\n",
              "      </script>\n",
              "    </div>\n",
              "  </div>\n",
              "  "
            ]
          },
          "metadata": {},
          "execution_count": 28
        }
      ]
    },
    {
      "cell_type": "code",
      "source": [
        "# P5와 대부분의 범주형 변수 삭제\n",
        "train.drop(columns=['시각', '광고 응답 소재 카테고리', '매체 ID', 'ADID', 'DSP ID', '애드유닛 ID', '노출 ID', 'SSP 입찰ID', 'DSP 입찰ID', 'AX 낙찰ID', 'WUID (웹 유저 ID)', 'OS 버전 ID', '국가코드 ID', 'P5', '광고 응답 광고주 도메인'], inplace=True)"
      ],
      "metadata": {
        "id": "S7GbJ0EBz4Qk"
      },
      "execution_count": null,
      "outputs": []
    },
    {
      "cell_type": "code",
      "source": [
        "# 범주형 변수에 대해 가변수화 처리\n",
        "train_d = pd.get_dummies(data=train, columns = ['ADID 타입', '플랫폼', 'OS 종류', '사이즈 ID'], drop_first=True)"
      ],
      "metadata": {
        "id": "d8TWFcooyXl0"
      },
      "execution_count": null,
      "outputs": []
    },
    {
      "cell_type": "code",
      "source": [
        "# 데이터에서 x, y 분리\n",
        "x = train_d.drop(columns=['winning'])\n",
        "y = train_d.loc[:, 'winning']\n",
        "\n",
        "# colab RAM 용량 확보를 위해 변수 제거\n",
        "del train_d"
      ],
      "metadata": {
        "id": "FhsXGoxU0fAE"
      },
      "execution_count": null,
      "outputs": []
    },
    {
      "cell_type": "code",
      "source": [
        "x.shape, y.shape"
      ],
      "metadata": {
        "colab": {
          "base_uri": "https://localhost:8080/"
        },
        "id": "wlOOtlbY1HTY",
        "outputId": "bd02e64a-5ac5-420f-ee2e-6975920008c6"
      },
      "execution_count": null,
      "outputs": [
        {
          "output_type": "execute_result",
          "data": {
            "text/plain": [
              "((9149654, 21), (9149654,))"
            ]
          },
          "metadata": {},
          "execution_count": 32
        }
      ]
    },
    {
      "cell_type": "code",
      "source": [
        "# train set, validation set split\n",
        "from sklearn.model_selection import train_test_split\n",
        "x_train, x_val, y_train, y_val = train_test_split(x, y, test_size=0.1, random_state=2022)"
      ],
      "metadata": {
        "id": "MjUpn0dT1H2g"
      },
      "execution_count": null,
      "outputs": []
    },
    {
      "cell_type": "code",
      "source": [
        "x_train.shape, x_val.shape, y_train.shape, y_val.shape"
      ],
      "metadata": {
        "colab": {
          "base_uri": "https://localhost:8080/"
        },
        "id": "7AbYDL9e1Kxc",
        "outputId": "8ad2c381-6424-41e9-9a35-1d02b4c1bb76"
      },
      "execution_count": null,
      "outputs": [
        {
          "output_type": "execute_result",
          "data": {
            "text/plain": [
              "((8234688, 21), (914966, 21), (8234688,), (914966,))"
            ]
          },
          "metadata": {},
          "execution_count": 34
        }
      ]
    },
    {
      "cell_type": "code",
      "source": [
        "# scikit learn 라이브러리에서 결정트리모델 가져오기\n",
        "from sklearn.tree import DecisionTreeClassifier\n",
        "model_dt = DecisionTreeClassifier(random_state=2022)\n",
        "model_dt.fit(x_train, y_train)"
      ],
      "metadata": {
        "colab": {
          "base_uri": "https://localhost:8080/"
        },
        "id": "dCskR1MEUZl-",
        "outputId": "89ec1bae-f87a-4326-926c-93311147ee93"
      },
      "execution_count": null,
      "outputs": [
        {
          "output_type": "execute_result",
          "data": {
            "text/plain": [
              "DecisionTreeClassifier(random_state=2022)"
            ]
          },
          "metadata": {},
          "execution_count": 35
        }
      ]
    },
    {
      "cell_type": "code",
      "source": [
        "from sklearn.metrics import *\n",
        "pred_dt = model_dt.predict(x_val)\n",
        "\n",
        "print(confusion_matrix(y_val, pred_dt))\n",
        "print(classification_report(y_val, pred_dt))"
      ],
      "metadata": {
        "colab": {
          "base_uri": "https://localhost:8080/"
        },
        "id": "0NOsrMmUZd_E",
        "outputId": "6e82e241-93be-45d4-dd20-648e8dc16070"
      },
      "execution_count": null,
      "outputs": [
        {
          "output_type": "stream",
          "name": "stdout",
          "text": [
            "[[600289  42864]\n",
            " [ 84975 186838]]\n",
            "              precision    recall  f1-score   support\n",
            "\n",
            "           0       0.88      0.93      0.90    643153\n",
            "           1       0.81      0.69      0.75    271813\n",
            "\n",
            "    accuracy                           0.86    914966\n",
            "   macro avg       0.84      0.81      0.82    914966\n",
            "weighted avg       0.86      0.86      0.86    914966\n",
            "\n"
          ]
        }
      ]
    },
    {
      "cell_type": "code",
      "source": [
        "from joblib import dump, load\n",
        "dump(model_dt, '/result/model_dt_final_final.joblib') "
      ],
      "metadata": {
        "colab": {
          "base_uri": "https://localhost:8080/"
        },
        "id": "aPnEOlUVlwnG",
        "outputId": "df35358b-6c22-44f4-d614-6009e66e9e43"
      },
      "execution_count": null,
      "outputs": [
        {
          "output_type": "execute_result",
          "data": {
            "text/plain": [
              "['/content/drive/MyDrive/공모전_본선/model_dt_final_final.joblib']"
            ]
          },
          "metadata": {},
          "execution_count": 37
        }
      ]
    }
  ]
}