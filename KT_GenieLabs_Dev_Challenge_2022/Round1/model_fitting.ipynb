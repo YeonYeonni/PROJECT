{
  "nbformat": 4,
  "nbformat_minor": 0,
  "metadata": {
    "colab": {
      "provenance": [],
      "machine_shape": "hm",
      "collapsed_sections": []
    },
    "kernelspec": {
      "name": "python3",
      "display_name": "Python 3"
    },
    "language_info": {
      "name": "python"
    },
    "accelerator": "GPU"
  },
  "cells": [
    {
      "cell_type": "markdown",
      "source": [
        "# 라이브러리 불러오기"
      ],
      "metadata": {
        "id": "oyWnmf4Ft7i-"
      }
    },
    {
      "cell_type": "code",
      "execution_count": 26,
      "metadata": {
        "id": "KU6bnzG0nt29"
      },
      "outputs": [],
      "source": [
        "import pandas as pd\n",
        "import numpy as np\n",
        "import matplotlib.pyplot as plt\n",
        "import tensorflow as tf\n",
        "from tensorflow import keras"
      ]
    },
    {
      "cell_type": "markdown",
      "source": [
        "# 데이터 불러오기"
      ],
      "metadata": {
        "id": "o9lpIGR4t_N4"
      }
    },
    {
      "cell_type": "code",
      "source": [
        "train = pd.read_csv(\"/data/round1_train.csv\")"
      ],
      "metadata": {
        "id": "p_F53LZrrsXy"
      },
      "execution_count": 2,
      "outputs": []
    },
    {
      "cell_type": "code",
      "source": [
        "train"
      ],
      "metadata": {
        "colab": {
          "base_uri": "https://localhost:8080/",
          "height": 557
        },
        "id": "3kkKaogirwAu",
        "outputId": "ff88ca8d-2d1c-4f79-bdaa-10d239bda887"
      },
      "execution_count": 42,
      "outputs": [
        {
          "output_type": "execute_result",
          "data": {
            "text/plain": [
              "                     시각                                               ADID  \\\n",
              "0        20220403000000  45503fc5d8d3a06832a087581ff6b6b4937b4d41d2d2cd...   \n",
              "1        20220403000000  59ae8bfa45031b28d30dc1ad6486d702148b1fbd461fd5...   \n",
              "2        20220403000000  c57351c77526224145cc7a5f48de890754943c71363d80...   \n",
              "3        20220403000000  93aca0b9a68e60ff423feeeae48d02007fab3920bc5d4f...   \n",
              "4        20220403000000  92a710e711b4d911c9c20ce04c6ce0381a3fbd9dcb3ba3...   \n",
              "...                 ...                                                ...   \n",
              "8525507  20220409235959  c3f09ead5c48d3963994bb1d22ee3e5aabc6231962ba1d...   \n",
              "8525508  20220409235959  14e0b00bb97e4aaa523e034f7a3ab7c960f60776d29766...   \n",
              "8525509  20220409235959  563c88c3eb3e455273f843430be728dbce40666ba15f66...   \n",
              "8525510  20220409235959  7780f913123f259c2ec2a48770a23fb5e97791fecaa76b...   \n",
              "8525511  20220409235959  aeb260a9bbd44de63bb727ef5e7a2775934e92ecca9c15...   \n",
              "\n",
              "         ADID 타입                                             DSP ID  \\\n",
              "0              1  d22127d7ef82d6f222558447b65f1fb63c36a55d71d0c3...   \n",
              "1              1  becd0e5686fae9c4a1885a950817a70f9ae3c437d32a60...   \n",
              "2              5  becd0e5686fae9c4a1885a950817a70f9ae3c437d32a60...   \n",
              "3              1  d22127d7ef82d6f222558447b65f1fb63c36a55d71d0c3...   \n",
              "4              1  d22127d7ef82d6f222558447b65f1fb63c36a55d71d0c3...   \n",
              "...          ...                                                ...   \n",
              "8525507        1  becd0e5686fae9c4a1885a950817a70f9ae3c437d32a60...   \n",
              "8525508        1  becd0e5686fae9c4a1885a950817a70f9ae3c437d32a60...   \n",
              "8525509        5  becd0e5686fae9c4a1885a950817a70f9ae3c437d32a60...   \n",
              "8525510        1  becd0e5686fae9c4a1885a950817a70f9ae3c437d32a60...   \n",
              "8525511        1  becd0e5686fae9c4a1885a950817a70f9ae3c437d32a60...   \n",
              "\n",
              "                                                     매체 ID  \\\n",
              "0        03eef1b13012d013345f17def773eceda258d8d9829484...   \n",
              "1        d64dbe2039165cce22fae7c7f16259596a196f149f08e7...   \n",
              "2        75cb5f369879cd6fa900bea129c1037432a00d6ae94128...   \n",
              "3        03eef1b13012d013345f17def773eceda258d8d9829484...   \n",
              "4        03eef1b13012d013345f17def773eceda258d8d9829484...   \n",
              "...                                                    ...   \n",
              "8525507  d64dbe2039165cce22fae7c7f16259596a196f149f08e7...   \n",
              "8525508  554b9474090ae6e25f9c6b93294eb85a2ef720ee49476d...   \n",
              "8525509  58e82266d3dd5e06208ea5e5935130faf276e4f95c3553...   \n",
              "8525510  554b9474090ae6e25f9c6b93294eb85a2ef720ee49476d...   \n",
              "8525511  554b9474090ae6e25f9c6b93294eb85a2ef720ee49476d...   \n",
              "\n",
              "                                                   애드유닛 ID  플랫폼  OS 종류  \\\n",
              "0        4a3406328504b21257aa66fc138ba78668bef318b361f9...    1      1   \n",
              "1        a2f05b9f2662f44757f69656801c4c0bd83e95caa10ddb...    1      1   \n",
              "2        40f3cb27c781d1130b7565836803f952a2e327e6db72ae...    3      1   \n",
              "3        4a3406328504b21257aa66fc138ba78668bef318b361f9...    1      1   \n",
              "4        4a3406328504b21257aa66fc138ba78668bef318b361f9...    1      1   \n",
              "...                                                    ...  ...    ...   \n",
              "8525507  a2f05b9f2662f44757f69656801c4c0bd83e95caa10ddb...    1      1   \n",
              "8525508  dc83186485f48c299c25f841bc8b866f4b80d901d825fe...    1      1   \n",
              "8525509  95380be2c6bdb9fddef405417310251a1f3524b3761033...    3      1   \n",
              "8525510  dc83186485f48c299c25f841bc8b866f4b80d901d825fe...    1      1   \n",
              "8525511  dc83186485f48c299c25f841bc8b866f4b80d901d825fe...    1      1   \n",
              "\n",
              "         사이즈 ID                                              노출 ID  ...  \\\n",
              "0             3  eb2cb8788b9462b49c35c1ca9a4b5828b9153274041a3a...  ...   \n",
              "1             2  c215404374628df7ea645a3cbc8a40df8972ca95b46f30...  ...   \n",
              "2             3  ed2e5996d4f0f524177eb84050fb10680899d93dc8d1fe...  ...   \n",
              "3             3  71d399d29493273a7b33fd13344c6ba7764b5e336df44a...  ...   \n",
              "4             3  003d0bfc2d6181540c0343eb1b5b242b7219c1878d581e...  ...   \n",
              "...         ...                                                ...  ...   \n",
              "8525507       2  78166d8ab99d327af1ae07155115cc4ea85281ecdc5b90...  ...   \n",
              "8525508       1  0ce79ee7b3ae2bf693d51cb98ba808cff0ae78139806ac...  ...   \n",
              "8525509       1  7c34480449a8d6379ab49073e892e043849f4ab2914f1f...  ...   \n",
              "8525510       1  546a640e3607a1f3e0fac206f1b6f8ffd924fa1e78da2c...  ...   \n",
              "8525511       1  8554bedc7627aa778007a61d47ef53d5f4d390bad9a608...  ...   \n",
              "\n",
              "        광고 응답 소재 카테고리                광고 응답 광고주 도메인 국가코드 ID OS 버전 ID  \\\n",
              "0               IAB22  8cf75239cd.b34eb325ae.co.kr  1012.0   1001.0   \n",
              "1                 NaN               a93d703987.com  1012.0      NaN   \n",
              "2                 NaN               32863daa33.com  1012.0      NaN   \n",
              "3               IAB22  8cf75239cd.b34eb325ae.co.kr  1012.0   1002.0   \n",
              "4               IAB22  8cf75239cd.b34eb325ae.co.kr  1012.0   1011.0   \n",
              "...               ...                          ...     ...      ...   \n",
              "8525507           NaN    3a8436b895.26fd66689d.com  1012.0      NaN   \n",
              "8525508           NaN             cf6e81993e.co.kr  1012.0      NaN   \n",
              "8525509           NaN             9250687113.co.kr  1012.0      NaN   \n",
              "8525510           NaN             7443953d97.co.kr  1012.0      NaN   \n",
              "8525511           NaN               0cc933587d.com  1012.0      NaN   \n",
              "\n",
              "                  P1         P2      P3          P4          P5  winning  \n",
              "0          65.230556   49.32900   36.54   45.661389    0.000000        0  \n",
              "1        1205.820000   49.32900   36.54  723.492000  590.973600        1  \n",
              "2         482.328000  250.00059  243.60  289.396800  255.780012        1  \n",
              "3          65.230556   49.32900   36.54   45.661389    0.000000        0  \n",
              "4          65.230556   49.32900   36.54   45.661389    0.000000        0  \n",
              "...              ...        ...     ...         ...         ...      ...  \n",
              "8525507   275.563200   49.73400   36.84  165.337920  159.640000        1  \n",
              "8525508    81.048000   49.73400   36.84   48.628800   41.820764        1  \n",
              "8525509   664.593600  240.00032  368.40  398.756160  380.680000        1  \n",
              "8525510   145.886400   49.73400   36.84   87.531840   82.305472        1  \n",
              "8525511   145.886400   49.73400   36.84   87.531840   85.960000        1  \n",
              "\n",
              "[8525512 rows x 25 columns]"
            ],
            "text/html": [
              "\n",
              "  <div id=\"df-04f29bc9-0bb4-412c-80a7-4f9040fc0680\">\n",
              "    <div class=\"colab-df-container\">\n",
              "      <div>\n",
              "<style scoped>\n",
              "    .dataframe tbody tr th:only-of-type {\n",
              "        vertical-align: middle;\n",
              "    }\n",
              "\n",
              "    .dataframe tbody tr th {\n",
              "        vertical-align: top;\n",
              "    }\n",
              "\n",
              "    .dataframe thead th {\n",
              "        text-align: right;\n",
              "    }\n",
              "</style>\n",
              "<table border=\"1\" class=\"dataframe\">\n",
              "  <thead>\n",
              "    <tr style=\"text-align: right;\">\n",
              "      <th></th>\n",
              "      <th>시각</th>\n",
              "      <th>ADID</th>\n",
              "      <th>ADID 타입</th>\n",
              "      <th>DSP ID</th>\n",
              "      <th>매체 ID</th>\n",
              "      <th>애드유닛 ID</th>\n",
              "      <th>플랫폼</th>\n",
              "      <th>OS 종류</th>\n",
              "      <th>사이즈 ID</th>\n",
              "      <th>노출 ID</th>\n",
              "      <th>...</th>\n",
              "      <th>광고 응답 소재 카테고리</th>\n",
              "      <th>광고 응답 광고주 도메인</th>\n",
              "      <th>국가코드 ID</th>\n",
              "      <th>OS 버전 ID</th>\n",
              "      <th>P1</th>\n",
              "      <th>P2</th>\n",
              "      <th>P3</th>\n",
              "      <th>P4</th>\n",
              "      <th>P5</th>\n",
              "      <th>winning</th>\n",
              "    </tr>\n",
              "  </thead>\n",
              "  <tbody>\n",
              "    <tr>\n",
              "      <th>0</th>\n",
              "      <td>20220403000000</td>\n",
              "      <td>45503fc5d8d3a06832a087581ff6b6b4937b4d41d2d2cd...</td>\n",
              "      <td>1</td>\n",
              "      <td>d22127d7ef82d6f222558447b65f1fb63c36a55d71d0c3...</td>\n",
              "      <td>03eef1b13012d013345f17def773eceda258d8d9829484...</td>\n",
              "      <td>4a3406328504b21257aa66fc138ba78668bef318b361f9...</td>\n",
              "      <td>1</td>\n",
              "      <td>1</td>\n",
              "      <td>3</td>\n",
              "      <td>eb2cb8788b9462b49c35c1ca9a4b5828b9153274041a3a...</td>\n",
              "      <td>...</td>\n",
              "      <td>IAB22</td>\n",
              "      <td>8cf75239cd.b34eb325ae.co.kr</td>\n",
              "      <td>1012.0</td>\n",
              "      <td>1001.0</td>\n",
              "      <td>65.230556</td>\n",
              "      <td>49.32900</td>\n",
              "      <td>36.54</td>\n",
              "      <td>45.661389</td>\n",
              "      <td>0.000000</td>\n",
              "      <td>0</td>\n",
              "    </tr>\n",
              "    <tr>\n",
              "      <th>1</th>\n",
              "      <td>20220403000000</td>\n",
              "      <td>59ae8bfa45031b28d30dc1ad6486d702148b1fbd461fd5...</td>\n",
              "      <td>1</td>\n",
              "      <td>becd0e5686fae9c4a1885a950817a70f9ae3c437d32a60...</td>\n",
              "      <td>d64dbe2039165cce22fae7c7f16259596a196f149f08e7...</td>\n",
              "      <td>a2f05b9f2662f44757f69656801c4c0bd83e95caa10ddb...</td>\n",
              "      <td>1</td>\n",
              "      <td>1</td>\n",
              "      <td>2</td>\n",
              "      <td>c215404374628df7ea645a3cbc8a40df8972ca95b46f30...</td>\n",
              "      <td>...</td>\n",
              "      <td>NaN</td>\n",
              "      <td>a93d703987.com</td>\n",
              "      <td>1012.0</td>\n",
              "      <td>NaN</td>\n",
              "      <td>1205.820000</td>\n",
              "      <td>49.32900</td>\n",
              "      <td>36.54</td>\n",
              "      <td>723.492000</td>\n",
              "      <td>590.973600</td>\n",
              "      <td>1</td>\n",
              "    </tr>\n",
              "    <tr>\n",
              "      <th>2</th>\n",
              "      <td>20220403000000</td>\n",
              "      <td>c57351c77526224145cc7a5f48de890754943c71363d80...</td>\n",
              "      <td>5</td>\n",
              "      <td>becd0e5686fae9c4a1885a950817a70f9ae3c437d32a60...</td>\n",
              "      <td>75cb5f369879cd6fa900bea129c1037432a00d6ae94128...</td>\n",
              "      <td>40f3cb27c781d1130b7565836803f952a2e327e6db72ae...</td>\n",
              "      <td>3</td>\n",
              "      <td>1</td>\n",
              "      <td>3</td>\n",
              "      <td>ed2e5996d4f0f524177eb84050fb10680899d93dc8d1fe...</td>\n",
              "      <td>...</td>\n",
              "      <td>NaN</td>\n",
              "      <td>32863daa33.com</td>\n",
              "      <td>1012.0</td>\n",
              "      <td>NaN</td>\n",
              "      <td>482.328000</td>\n",
              "      <td>250.00059</td>\n",
              "      <td>243.60</td>\n",
              "      <td>289.396800</td>\n",
              "      <td>255.780012</td>\n",
              "      <td>1</td>\n",
              "    </tr>\n",
              "    <tr>\n",
              "      <th>3</th>\n",
              "      <td>20220403000000</td>\n",
              "      <td>93aca0b9a68e60ff423feeeae48d02007fab3920bc5d4f...</td>\n",
              "      <td>1</td>\n",
              "      <td>d22127d7ef82d6f222558447b65f1fb63c36a55d71d0c3...</td>\n",
              "      <td>03eef1b13012d013345f17def773eceda258d8d9829484...</td>\n",
              "      <td>4a3406328504b21257aa66fc138ba78668bef318b361f9...</td>\n",
              "      <td>1</td>\n",
              "      <td>1</td>\n",
              "      <td>3</td>\n",
              "      <td>71d399d29493273a7b33fd13344c6ba7764b5e336df44a...</td>\n",
              "      <td>...</td>\n",
              "      <td>IAB22</td>\n",
              "      <td>8cf75239cd.b34eb325ae.co.kr</td>\n",
              "      <td>1012.0</td>\n",
              "      <td>1002.0</td>\n",
              "      <td>65.230556</td>\n",
              "      <td>49.32900</td>\n",
              "      <td>36.54</td>\n",
              "      <td>45.661389</td>\n",
              "      <td>0.000000</td>\n",
              "      <td>0</td>\n",
              "    </tr>\n",
              "    <tr>\n",
              "      <th>4</th>\n",
              "      <td>20220403000000</td>\n",
              "      <td>92a710e711b4d911c9c20ce04c6ce0381a3fbd9dcb3ba3...</td>\n",
              "      <td>1</td>\n",
              "      <td>d22127d7ef82d6f222558447b65f1fb63c36a55d71d0c3...</td>\n",
              "      <td>03eef1b13012d013345f17def773eceda258d8d9829484...</td>\n",
              "      <td>4a3406328504b21257aa66fc138ba78668bef318b361f9...</td>\n",
              "      <td>1</td>\n",
              "      <td>1</td>\n",
              "      <td>3</td>\n",
              "      <td>003d0bfc2d6181540c0343eb1b5b242b7219c1878d581e...</td>\n",
              "      <td>...</td>\n",
              "      <td>IAB22</td>\n",
              "      <td>8cf75239cd.b34eb325ae.co.kr</td>\n",
              "      <td>1012.0</td>\n",
              "      <td>1011.0</td>\n",
              "      <td>65.230556</td>\n",
              "      <td>49.32900</td>\n",
              "      <td>36.54</td>\n",
              "      <td>45.661389</td>\n",
              "      <td>0.000000</td>\n",
              "      <td>0</td>\n",
              "    </tr>\n",
              "    <tr>\n",
              "      <th>...</th>\n",
              "      <td>...</td>\n",
              "      <td>...</td>\n",
              "      <td>...</td>\n",
              "      <td>...</td>\n",
              "      <td>...</td>\n",
              "      <td>...</td>\n",
              "      <td>...</td>\n",
              "      <td>...</td>\n",
              "      <td>...</td>\n",
              "      <td>...</td>\n",
              "      <td>...</td>\n",
              "      <td>...</td>\n",
              "      <td>...</td>\n",
              "      <td>...</td>\n",
              "      <td>...</td>\n",
              "      <td>...</td>\n",
              "      <td>...</td>\n",
              "      <td>...</td>\n",
              "      <td>...</td>\n",
              "      <td>...</td>\n",
              "      <td>...</td>\n",
              "    </tr>\n",
              "    <tr>\n",
              "      <th>8525507</th>\n",
              "      <td>20220409235959</td>\n",
              "      <td>c3f09ead5c48d3963994bb1d22ee3e5aabc6231962ba1d...</td>\n",
              "      <td>1</td>\n",
              "      <td>becd0e5686fae9c4a1885a950817a70f9ae3c437d32a60...</td>\n",
              "      <td>d64dbe2039165cce22fae7c7f16259596a196f149f08e7...</td>\n",
              "      <td>a2f05b9f2662f44757f69656801c4c0bd83e95caa10ddb...</td>\n",
              "      <td>1</td>\n",
              "      <td>1</td>\n",
              "      <td>2</td>\n",
              "      <td>78166d8ab99d327af1ae07155115cc4ea85281ecdc5b90...</td>\n",
              "      <td>...</td>\n",
              "      <td>NaN</td>\n",
              "      <td>3a8436b895.26fd66689d.com</td>\n",
              "      <td>1012.0</td>\n",
              "      <td>NaN</td>\n",
              "      <td>275.563200</td>\n",
              "      <td>49.73400</td>\n",
              "      <td>36.84</td>\n",
              "      <td>165.337920</td>\n",
              "      <td>159.640000</td>\n",
              "      <td>1</td>\n",
              "    </tr>\n",
              "    <tr>\n",
              "      <th>8525508</th>\n",
              "      <td>20220409235959</td>\n",
              "      <td>14e0b00bb97e4aaa523e034f7a3ab7c960f60776d29766...</td>\n",
              "      <td>1</td>\n",
              "      <td>becd0e5686fae9c4a1885a950817a70f9ae3c437d32a60...</td>\n",
              "      <td>554b9474090ae6e25f9c6b93294eb85a2ef720ee49476d...</td>\n",
              "      <td>dc83186485f48c299c25f841bc8b866f4b80d901d825fe...</td>\n",
              "      <td>1</td>\n",
              "      <td>1</td>\n",
              "      <td>1</td>\n",
              "      <td>0ce79ee7b3ae2bf693d51cb98ba808cff0ae78139806ac...</td>\n",
              "      <td>...</td>\n",
              "      <td>NaN</td>\n",
              "      <td>cf6e81993e.co.kr</td>\n",
              "      <td>1012.0</td>\n",
              "      <td>NaN</td>\n",
              "      <td>81.048000</td>\n",
              "      <td>49.73400</td>\n",
              "      <td>36.84</td>\n",
              "      <td>48.628800</td>\n",
              "      <td>41.820764</td>\n",
              "      <td>1</td>\n",
              "    </tr>\n",
              "    <tr>\n",
              "      <th>8525509</th>\n",
              "      <td>20220409235959</td>\n",
              "      <td>563c88c3eb3e455273f843430be728dbce40666ba15f66...</td>\n",
              "      <td>5</td>\n",
              "      <td>becd0e5686fae9c4a1885a950817a70f9ae3c437d32a60...</td>\n",
              "      <td>58e82266d3dd5e06208ea5e5935130faf276e4f95c3553...</td>\n",
              "      <td>95380be2c6bdb9fddef405417310251a1f3524b3761033...</td>\n",
              "      <td>3</td>\n",
              "      <td>1</td>\n",
              "      <td>1</td>\n",
              "      <td>7c34480449a8d6379ab49073e892e043849f4ab2914f1f...</td>\n",
              "      <td>...</td>\n",
              "      <td>NaN</td>\n",
              "      <td>9250687113.co.kr</td>\n",
              "      <td>1012.0</td>\n",
              "      <td>NaN</td>\n",
              "      <td>664.593600</td>\n",
              "      <td>240.00032</td>\n",
              "      <td>368.40</td>\n",
              "      <td>398.756160</td>\n",
              "      <td>380.680000</td>\n",
              "      <td>1</td>\n",
              "    </tr>\n",
              "    <tr>\n",
              "      <th>8525510</th>\n",
              "      <td>20220409235959</td>\n",
              "      <td>7780f913123f259c2ec2a48770a23fb5e97791fecaa76b...</td>\n",
              "      <td>1</td>\n",
              "      <td>becd0e5686fae9c4a1885a950817a70f9ae3c437d32a60...</td>\n",
              "      <td>554b9474090ae6e25f9c6b93294eb85a2ef720ee49476d...</td>\n",
              "      <td>dc83186485f48c299c25f841bc8b866f4b80d901d825fe...</td>\n",
              "      <td>1</td>\n",
              "      <td>1</td>\n",
              "      <td>1</td>\n",
              "      <td>546a640e3607a1f3e0fac206f1b6f8ffd924fa1e78da2c...</td>\n",
              "      <td>...</td>\n",
              "      <td>NaN</td>\n",
              "      <td>7443953d97.co.kr</td>\n",
              "      <td>1012.0</td>\n",
              "      <td>NaN</td>\n",
              "      <td>145.886400</td>\n",
              "      <td>49.73400</td>\n",
              "      <td>36.84</td>\n",
              "      <td>87.531840</td>\n",
              "      <td>82.305472</td>\n",
              "      <td>1</td>\n",
              "    </tr>\n",
              "    <tr>\n",
              "      <th>8525511</th>\n",
              "      <td>20220409235959</td>\n",
              "      <td>aeb260a9bbd44de63bb727ef5e7a2775934e92ecca9c15...</td>\n",
              "      <td>1</td>\n",
              "      <td>becd0e5686fae9c4a1885a950817a70f9ae3c437d32a60...</td>\n",
              "      <td>554b9474090ae6e25f9c6b93294eb85a2ef720ee49476d...</td>\n",
              "      <td>dc83186485f48c299c25f841bc8b866f4b80d901d825fe...</td>\n",
              "      <td>1</td>\n",
              "      <td>1</td>\n",
              "      <td>1</td>\n",
              "      <td>8554bedc7627aa778007a61d47ef53d5f4d390bad9a608...</td>\n",
              "      <td>...</td>\n",
              "      <td>NaN</td>\n",
              "      <td>0cc933587d.com</td>\n",
              "      <td>1012.0</td>\n",
              "      <td>NaN</td>\n",
              "      <td>145.886400</td>\n",
              "      <td>49.73400</td>\n",
              "      <td>36.84</td>\n",
              "      <td>87.531840</td>\n",
              "      <td>85.960000</td>\n",
              "      <td>1</td>\n",
              "    </tr>\n",
              "  </tbody>\n",
              "</table>\n",
              "<p>8525512 rows × 25 columns</p>\n",
              "</div>\n",
              "      <button class=\"colab-df-convert\" onclick=\"convertToInteractive('df-04f29bc9-0bb4-412c-80a7-4f9040fc0680')\"\n",
              "              title=\"Convert this dataframe to an interactive table.\"\n",
              "              style=\"display:none;\">\n",
              "        \n",
              "  <svg xmlns=\"http://www.w3.org/2000/svg\" height=\"24px\"viewBox=\"0 0 24 24\"\n",
              "       width=\"24px\">\n",
              "    <path d=\"M0 0h24v24H0V0z\" fill=\"none\"/>\n",
              "    <path d=\"M18.56 5.44l.94 2.06.94-2.06 2.06-.94-2.06-.94-.94-2.06-.94 2.06-2.06.94zm-11 1L8.5 8.5l.94-2.06 2.06-.94-2.06-.94L8.5 2.5l-.94 2.06-2.06.94zm10 10l.94 2.06.94-2.06 2.06-.94-2.06-.94-.94-2.06-.94 2.06-2.06.94z\"/><path d=\"M17.41 7.96l-1.37-1.37c-.4-.4-.92-.59-1.43-.59-.52 0-1.04.2-1.43.59L10.3 9.45l-7.72 7.72c-.78.78-.78 2.05 0 2.83L4 21.41c.39.39.9.59 1.41.59.51 0 1.02-.2 1.41-.59l7.78-7.78 2.81-2.81c.8-.78.8-2.07 0-2.86zM5.41 20L4 18.59l7.72-7.72 1.47 1.35L5.41 20z\"/>\n",
              "  </svg>\n",
              "      </button>\n",
              "      \n",
              "  <style>\n",
              "    .colab-df-container {\n",
              "      display:flex;\n",
              "      flex-wrap:wrap;\n",
              "      gap: 12px;\n",
              "    }\n",
              "\n",
              "    .colab-df-convert {\n",
              "      background-color: #E8F0FE;\n",
              "      border: none;\n",
              "      border-radius: 50%;\n",
              "      cursor: pointer;\n",
              "      display: none;\n",
              "      fill: #1967D2;\n",
              "      height: 32px;\n",
              "      padding: 0 0 0 0;\n",
              "      width: 32px;\n",
              "    }\n",
              "\n",
              "    .colab-df-convert:hover {\n",
              "      background-color: #E2EBFA;\n",
              "      box-shadow: 0px 1px 2px rgba(60, 64, 67, 0.3), 0px 1px 3px 1px rgba(60, 64, 67, 0.15);\n",
              "      fill: #174EA6;\n",
              "    }\n",
              "\n",
              "    [theme=dark] .colab-df-convert {\n",
              "      background-color: #3B4455;\n",
              "      fill: #D2E3FC;\n",
              "    }\n",
              "\n",
              "    [theme=dark] .colab-df-convert:hover {\n",
              "      background-color: #434B5C;\n",
              "      box-shadow: 0px 1px 3px 1px rgba(0, 0, 0, 0.15);\n",
              "      filter: drop-shadow(0px 1px 2px rgba(0, 0, 0, 0.3));\n",
              "      fill: #FFFFFF;\n",
              "    }\n",
              "  </style>\n",
              "\n",
              "      <script>\n",
              "        const buttonEl =\n",
              "          document.querySelector('#df-04f29bc9-0bb4-412c-80a7-4f9040fc0680 button.colab-df-convert');\n",
              "        buttonEl.style.display =\n",
              "          google.colab.kernel.accessAllowed ? 'block' : 'none';\n",
              "\n",
              "        async function convertToInteractive(key) {\n",
              "          const element = document.querySelector('#df-04f29bc9-0bb4-412c-80a7-4f9040fc0680');\n",
              "          const dataTable =\n",
              "            await google.colab.kernel.invokeFunction('convertToInteractive',\n",
              "                                                     [key], {});\n",
              "          if (!dataTable) return;\n",
              "\n",
              "          const docLinkHtml = 'Like what you see? Visit the ' +\n",
              "            '<a target=\"_blank\" href=https://colab.research.google.com/notebooks/data_table.ipynb>data table notebook</a>'\n",
              "            + ' to learn more about interactive tables.';\n",
              "          element.innerHTML = '';\n",
              "          dataTable['output_type'] = 'display_data';\n",
              "          await google.colab.output.renderOutput(dataTable, element);\n",
              "          const docLink = document.createElement('div');\n",
              "          docLink.innerHTML = docLinkHtml;\n",
              "          element.appendChild(docLink);\n",
              "        }\n",
              "      </script>\n",
              "    </div>\n",
              "  </div>\n",
              "  "
            ]
          },
          "metadata": {},
          "execution_count": 42
        }
      ]
    },
    {
      "cell_type": "markdown",
      "source": [
        "## Feature Engineering"
      ],
      "metadata": {
        "id": "lc6zNvuSxMoO"
      }
    },
    {
      "cell_type": "code",
      "source": [
        "# P1 ~ P4를 사용해 P5를 예측\n",
        "temp = train.loc[:,['P1','P2','P3','P4','P5']]\n",
        "new_temp = temp.loc[temp['P5'] != 0, :]"
      ],
      "metadata": {
        "id": "ZGL23g_madhH"
      },
      "execution_count": 3,
      "outputs": []
    },
    {
      "cell_type": "code",
      "source": [
        "from sklearn.linear_model import LinearRegression\n",
        "from sklearn.model_selection import train_test_split\n",
        "model = LinearRegression()\n",
        "x = new_temp.drop(columns='P5')\n",
        "y = new_temp.loc[:, 'P5']\n",
        "x_train_temp, x_test_temp, y_train_temp, y_test_temp = train_test_split(x, y, test_size=0.1, random_state=2022)\n",
        "\n",
        "# P5를 예측하는 Linear Regression 모델 학습\n",
        "model.fit(x_train_temp, y_train_temp)"
      ],
      "metadata": {
        "colab": {
          "base_uri": "https://localhost:8080/"
        },
        "id": "mukL9H4nao5e",
        "outputId": "8f88e37c-56c7-4ff4-97cd-106ad94e4890"
      },
      "execution_count": 4,
      "outputs": [
        {
          "output_type": "execute_result",
          "data": {
            "text/plain": [
              "LinearRegression()"
            ]
          },
          "metadata": {},
          "execution_count": 4
        }
      ]
    },
    {
      "cell_type": "code",
      "source": [
        "# 모델 저장\n",
        "from joblib import dump, load\n",
        "dump(model, 'model_lr.joblib') "
      ],
      "metadata": {
        "colab": {
          "base_uri": "https://localhost:8080/"
        },
        "id": "WaI9M_QM2xKl",
        "outputId": "41f5b33b-bb68-461c-e12e-6c11cd089b23"
      },
      "execution_count": 31,
      "outputs": [
        {
          "output_type": "execute_result",
          "data": {
            "text/plain": [
              "['model_lr.joblib']"
            ]
          },
          "metadata": {},
          "execution_count": 31
        }
      ]
    },
    {
      "cell_type": "code",
      "source": [
        "load_model_lr = load('/result/model_lr.joblib') "
      ],
      "metadata": {
        "id": "ociHTo5D3Arh"
      },
      "execution_count": 32,
      "outputs": []
    },
    {
      "cell_type": "code",
      "source": [
        "new_feat = load_model_lr.predict(train[['P1','P2','P3','P4']])\n",
        "new_feat"
      ],
      "metadata": {
        "colab": {
          "base_uri": "https://localhost:8080/"
        },
        "id": "X13sViqE1w1p",
        "outputId": "3a87e41d-d4c6-4e59-8aa8-dc21091f7aa1"
      },
      "execution_count": 33,
      "outputs": [
        {
          "output_type": "execute_result",
          "data": {
            "text/plain": [
              "array([ 40.23323022, 603.81662291, 268.15733423, ..., 365.36063923,\n",
              "        78.53389865,  78.53389865])"
            ]
          },
          "metadata": {},
          "execution_count": 33
        }
      ]
    },
    {
      "cell_type": "code",
      "source": [
        "# 새로운 feature 1 행 추가\n",
        "train['new_feature'] = new_feat"
      ],
      "metadata": {
        "id": "3jD5hvuZazOA"
      },
      "execution_count": 8,
      "outputs": []
    },
    {
      "cell_type": "code",
      "source": [
        "# 새로운 feature 2 행 추가\n",
        "train['new_feature2'] = 0\n",
        "train.loc[(train['P2'] > train['P4']) | (train['P3'] > train['P4']), 'new_feature2'] = 0\n",
        "train.loc[(train['P2'] < train['P4']) & (train['P3'] < train['P4']), 'new_feature2'] = 1"
      ],
      "metadata": {
        "id": "U6u8XMRk6uQK"
      },
      "execution_count": 10,
      "outputs": []
    },
    {
      "cell_type": "code",
      "source": [
        "# 새로운 feature 3, 4 행 추가\n",
        "train['P4_P3'] = train['P4'] - train['P3']\n",
        "train['P4_P2'] = train['P4'] - train['P2']"
      ],
      "metadata": {
        "id": "qtSBHUKSI-m9"
      },
      "execution_count": 11,
      "outputs": []
    },
    {
      "cell_type": "code",
      "source": [
        "train"
      ],
      "metadata": {
        "colab": {
          "base_uri": "https://localhost:8080/",
          "height": 540
        },
        "id": "TTtTshZ8dFVu",
        "outputId": "e5245e97-4ad4-44a2-a566-9fdd00ebd48d"
      },
      "execution_count": 12,
      "outputs": [
        {
          "output_type": "execute_result",
          "data": {
            "text/plain": [
              "                     시각                                               ADID  \\\n",
              "0        20220403000000  45503fc5d8d3a06832a087581ff6b6b4937b4d41d2d2cd...   \n",
              "1        20220403000000  59ae8bfa45031b28d30dc1ad6486d702148b1fbd461fd5...   \n",
              "2        20220403000000  c57351c77526224145cc7a5f48de890754943c71363d80...   \n",
              "3        20220403000000  93aca0b9a68e60ff423feeeae48d02007fab3920bc5d4f...   \n",
              "4        20220403000000  92a710e711b4d911c9c20ce04c6ce0381a3fbd9dcb3ba3...   \n",
              "...                 ...                                                ...   \n",
              "8525507  20220409235959  c3f09ead5c48d3963994bb1d22ee3e5aabc6231962ba1d...   \n",
              "8525508  20220409235959  14e0b00bb97e4aaa523e034f7a3ab7c960f60776d29766...   \n",
              "8525509  20220409235959  563c88c3eb3e455273f843430be728dbce40666ba15f66...   \n",
              "8525510  20220409235959  7780f913123f259c2ec2a48770a23fb5e97791fecaa76b...   \n",
              "8525511  20220409235959  aeb260a9bbd44de63bb727ef5e7a2775934e92ecca9c15...   \n",
              "\n",
              "         ADID 타입                                             DSP ID  \\\n",
              "0              1  d22127d7ef82d6f222558447b65f1fb63c36a55d71d0c3...   \n",
              "1              1  becd0e5686fae9c4a1885a950817a70f9ae3c437d32a60...   \n",
              "2              5  becd0e5686fae9c4a1885a950817a70f9ae3c437d32a60...   \n",
              "3              1  d22127d7ef82d6f222558447b65f1fb63c36a55d71d0c3...   \n",
              "4              1  d22127d7ef82d6f222558447b65f1fb63c36a55d71d0c3...   \n",
              "...          ...                                                ...   \n",
              "8525507        1  becd0e5686fae9c4a1885a950817a70f9ae3c437d32a60...   \n",
              "8525508        1  becd0e5686fae9c4a1885a950817a70f9ae3c437d32a60...   \n",
              "8525509        5  becd0e5686fae9c4a1885a950817a70f9ae3c437d32a60...   \n",
              "8525510        1  becd0e5686fae9c4a1885a950817a70f9ae3c437d32a60...   \n",
              "8525511        1  becd0e5686fae9c4a1885a950817a70f9ae3c437d32a60...   \n",
              "\n",
              "                                                     매체 ID  \\\n",
              "0        03eef1b13012d013345f17def773eceda258d8d9829484...   \n",
              "1        d64dbe2039165cce22fae7c7f16259596a196f149f08e7...   \n",
              "2        75cb5f369879cd6fa900bea129c1037432a00d6ae94128...   \n",
              "3        03eef1b13012d013345f17def773eceda258d8d9829484...   \n",
              "4        03eef1b13012d013345f17def773eceda258d8d9829484...   \n",
              "...                                                    ...   \n",
              "8525507  d64dbe2039165cce22fae7c7f16259596a196f149f08e7...   \n",
              "8525508  554b9474090ae6e25f9c6b93294eb85a2ef720ee49476d...   \n",
              "8525509  58e82266d3dd5e06208ea5e5935130faf276e4f95c3553...   \n",
              "8525510  554b9474090ae6e25f9c6b93294eb85a2ef720ee49476d...   \n",
              "8525511  554b9474090ae6e25f9c6b93294eb85a2ef720ee49476d...   \n",
              "\n",
              "                                                   애드유닛 ID  플랫폼  OS 종류  \\\n",
              "0        4a3406328504b21257aa66fc138ba78668bef318b361f9...    1      1   \n",
              "1        a2f05b9f2662f44757f69656801c4c0bd83e95caa10ddb...    1      1   \n",
              "2        40f3cb27c781d1130b7565836803f952a2e327e6db72ae...    3      1   \n",
              "3        4a3406328504b21257aa66fc138ba78668bef318b361f9...    1      1   \n",
              "4        4a3406328504b21257aa66fc138ba78668bef318b361f9...    1      1   \n",
              "...                                                    ...  ...    ...   \n",
              "8525507  a2f05b9f2662f44757f69656801c4c0bd83e95caa10ddb...    1      1   \n",
              "8525508  dc83186485f48c299c25f841bc8b866f4b80d901d825fe...    1      1   \n",
              "8525509  95380be2c6bdb9fddef405417310251a1f3524b3761033...    3      1   \n",
              "8525510  dc83186485f48c299c25f841bc8b866f4b80d901d825fe...    1      1   \n",
              "8525511  dc83186485f48c299c25f841bc8b866f4b80d901d825fe...    1      1   \n",
              "\n",
              "         사이즈 ID                                              노출 ID  ...  \\\n",
              "0             3  eb2cb8788b9462b49c35c1ca9a4b5828b9153274041a3a...  ...   \n",
              "1             2  c215404374628df7ea645a3cbc8a40df8972ca95b46f30...  ...   \n",
              "2             3  ed2e5996d4f0f524177eb84050fb10680899d93dc8d1fe...  ...   \n",
              "3             3  71d399d29493273a7b33fd13344c6ba7764b5e336df44a...  ...   \n",
              "4             3  003d0bfc2d6181540c0343eb1b5b242b7219c1878d581e...  ...   \n",
              "...         ...                                                ...  ...   \n",
              "8525507       2  78166d8ab99d327af1ae07155115cc4ea85281ecdc5b90...  ...   \n",
              "8525508       1  0ce79ee7b3ae2bf693d51cb98ba808cff0ae78139806ac...  ...   \n",
              "8525509       1  7c34480449a8d6379ab49073e892e043849f4ab2914f1f...  ...   \n",
              "8525510       1  546a640e3607a1f3e0fac206f1b6f8ffd924fa1e78da2c...  ...   \n",
              "8525511       1  8554bedc7627aa778007a61d47ef53d5f4d390bad9a608...  ...   \n",
              "\n",
              "                  P1         P2      P3          P4          P5 winning  \\\n",
              "0          65.230556   49.32900   36.54   45.661389    0.000000       0   \n",
              "1        1205.820000   49.32900   36.54  723.492000  590.973600       1   \n",
              "2         482.328000  250.00059  243.60  289.396800  255.780012       1   \n",
              "3          65.230556   49.32900   36.54   45.661389    0.000000       0   \n",
              "4          65.230556   49.32900   36.54   45.661389    0.000000       0   \n",
              "...              ...        ...     ...         ...         ...     ...   \n",
              "8525507   275.563200   49.73400   36.84  165.337920  159.640000       1   \n",
              "8525508    81.048000   49.73400   36.84   48.628800   41.820764       1   \n",
              "8525509   664.593600  240.00032  368.40  398.756160  380.680000       1   \n",
              "8525510   145.886400   49.73400   36.84   87.531840   82.305472       1   \n",
              "8525511   145.886400   49.73400   36.84   87.531840   85.960000       1   \n",
              "\n",
              "        new_feature  new_feature2       P4_P3       P4_P2  \n",
              "0         40.233230             0    9.121389   -3.667611  \n",
              "1        603.816623             1  686.952000  674.163000  \n",
              "2        268.157334             1   45.796800   39.396210  \n",
              "3         40.233230             0    9.121389   -3.667611  \n",
              "4         40.233230             0    9.121389   -3.667611  \n",
              "...             ...           ...         ...         ...  \n",
              "8525507  142.804032             1  128.497920  115.603920  \n",
              "8525508   46.398832             0   11.788800   -1.105200  \n",
              "8525509  365.360639             1   30.356160  158.755840  \n",
              "8525510   78.533899             1   50.691840   37.797840  \n",
              "8525511   78.533899             1   50.691840   37.797840  \n",
              "\n",
              "[8525512 rows x 29 columns]"
            ],
            "text/html": [
              "\n",
              "  <div id=\"df-5000be7f-bb5c-4403-8429-4bffcd87ca1b\">\n",
              "    <div class=\"colab-df-container\">\n",
              "      <div>\n",
              "<style scoped>\n",
              "    .dataframe tbody tr th:only-of-type {\n",
              "        vertical-align: middle;\n",
              "    }\n",
              "\n",
              "    .dataframe tbody tr th {\n",
              "        vertical-align: top;\n",
              "    }\n",
              "\n",
              "    .dataframe thead th {\n",
              "        text-align: right;\n",
              "    }\n",
              "</style>\n",
              "<table border=\"1\" class=\"dataframe\">\n",
              "  <thead>\n",
              "    <tr style=\"text-align: right;\">\n",
              "      <th></th>\n",
              "      <th>시각</th>\n",
              "      <th>ADID</th>\n",
              "      <th>ADID 타입</th>\n",
              "      <th>DSP ID</th>\n",
              "      <th>매체 ID</th>\n",
              "      <th>애드유닛 ID</th>\n",
              "      <th>플랫폼</th>\n",
              "      <th>OS 종류</th>\n",
              "      <th>사이즈 ID</th>\n",
              "      <th>노출 ID</th>\n",
              "      <th>...</th>\n",
              "      <th>P1</th>\n",
              "      <th>P2</th>\n",
              "      <th>P3</th>\n",
              "      <th>P4</th>\n",
              "      <th>P5</th>\n",
              "      <th>winning</th>\n",
              "      <th>new_feature</th>\n",
              "      <th>new_feature2</th>\n",
              "      <th>P4_P3</th>\n",
              "      <th>P4_P2</th>\n",
              "    </tr>\n",
              "  </thead>\n",
              "  <tbody>\n",
              "    <tr>\n",
              "      <th>0</th>\n",
              "      <td>20220403000000</td>\n",
              "      <td>45503fc5d8d3a06832a087581ff6b6b4937b4d41d2d2cd...</td>\n",
              "      <td>1</td>\n",
              "      <td>d22127d7ef82d6f222558447b65f1fb63c36a55d71d0c3...</td>\n",
              "      <td>03eef1b13012d013345f17def773eceda258d8d9829484...</td>\n",
              "      <td>4a3406328504b21257aa66fc138ba78668bef318b361f9...</td>\n",
              "      <td>1</td>\n",
              "      <td>1</td>\n",
              "      <td>3</td>\n",
              "      <td>eb2cb8788b9462b49c35c1ca9a4b5828b9153274041a3a...</td>\n",
              "      <td>...</td>\n",
              "      <td>65.230556</td>\n",
              "      <td>49.32900</td>\n",
              "      <td>36.54</td>\n",
              "      <td>45.661389</td>\n",
              "      <td>0.000000</td>\n",
              "      <td>0</td>\n",
              "      <td>40.233230</td>\n",
              "      <td>0</td>\n",
              "      <td>9.121389</td>\n",
              "      <td>-3.667611</td>\n",
              "    </tr>\n",
              "    <tr>\n",
              "      <th>1</th>\n",
              "      <td>20220403000000</td>\n",
              "      <td>59ae8bfa45031b28d30dc1ad6486d702148b1fbd461fd5...</td>\n",
              "      <td>1</td>\n",
              "      <td>becd0e5686fae9c4a1885a950817a70f9ae3c437d32a60...</td>\n",
              "      <td>d64dbe2039165cce22fae7c7f16259596a196f149f08e7...</td>\n",
              "      <td>a2f05b9f2662f44757f69656801c4c0bd83e95caa10ddb...</td>\n",
              "      <td>1</td>\n",
              "      <td>1</td>\n",
              "      <td>2</td>\n",
              "      <td>c215404374628df7ea645a3cbc8a40df8972ca95b46f30...</td>\n",
              "      <td>...</td>\n",
              "      <td>1205.820000</td>\n",
              "      <td>49.32900</td>\n",
              "      <td>36.54</td>\n",
              "      <td>723.492000</td>\n",
              "      <td>590.973600</td>\n",
              "      <td>1</td>\n",
              "      <td>603.816623</td>\n",
              "      <td>1</td>\n",
              "      <td>686.952000</td>\n",
              "      <td>674.163000</td>\n",
              "    </tr>\n",
              "    <tr>\n",
              "      <th>2</th>\n",
              "      <td>20220403000000</td>\n",
              "      <td>c57351c77526224145cc7a5f48de890754943c71363d80...</td>\n",
              "      <td>5</td>\n",
              "      <td>becd0e5686fae9c4a1885a950817a70f9ae3c437d32a60...</td>\n",
              "      <td>75cb5f369879cd6fa900bea129c1037432a00d6ae94128...</td>\n",
              "      <td>40f3cb27c781d1130b7565836803f952a2e327e6db72ae...</td>\n",
              "      <td>3</td>\n",
              "      <td>1</td>\n",
              "      <td>3</td>\n",
              "      <td>ed2e5996d4f0f524177eb84050fb10680899d93dc8d1fe...</td>\n",
              "      <td>...</td>\n",
              "      <td>482.328000</td>\n",
              "      <td>250.00059</td>\n",
              "      <td>243.60</td>\n",
              "      <td>289.396800</td>\n",
              "      <td>255.780012</td>\n",
              "      <td>1</td>\n",
              "      <td>268.157334</td>\n",
              "      <td>1</td>\n",
              "      <td>45.796800</td>\n",
              "      <td>39.396210</td>\n",
              "    </tr>\n",
              "    <tr>\n",
              "      <th>3</th>\n",
              "      <td>20220403000000</td>\n",
              "      <td>93aca0b9a68e60ff423feeeae48d02007fab3920bc5d4f...</td>\n",
              "      <td>1</td>\n",
              "      <td>d22127d7ef82d6f222558447b65f1fb63c36a55d71d0c3...</td>\n",
              "      <td>03eef1b13012d013345f17def773eceda258d8d9829484...</td>\n",
              "      <td>4a3406328504b21257aa66fc138ba78668bef318b361f9...</td>\n",
              "      <td>1</td>\n",
              "      <td>1</td>\n",
              "      <td>3</td>\n",
              "      <td>71d399d29493273a7b33fd13344c6ba7764b5e336df44a...</td>\n",
              "      <td>...</td>\n",
              "      <td>65.230556</td>\n",
              "      <td>49.32900</td>\n",
              "      <td>36.54</td>\n",
              "      <td>45.661389</td>\n",
              "      <td>0.000000</td>\n",
              "      <td>0</td>\n",
              "      <td>40.233230</td>\n",
              "      <td>0</td>\n",
              "      <td>9.121389</td>\n",
              "      <td>-3.667611</td>\n",
              "    </tr>\n",
              "    <tr>\n",
              "      <th>4</th>\n",
              "      <td>20220403000000</td>\n",
              "      <td>92a710e711b4d911c9c20ce04c6ce0381a3fbd9dcb3ba3...</td>\n",
              "      <td>1</td>\n",
              "      <td>d22127d7ef82d6f222558447b65f1fb63c36a55d71d0c3...</td>\n",
              "      <td>03eef1b13012d013345f17def773eceda258d8d9829484...</td>\n",
              "      <td>4a3406328504b21257aa66fc138ba78668bef318b361f9...</td>\n",
              "      <td>1</td>\n",
              "      <td>1</td>\n",
              "      <td>3</td>\n",
              "      <td>003d0bfc2d6181540c0343eb1b5b242b7219c1878d581e...</td>\n",
              "      <td>...</td>\n",
              "      <td>65.230556</td>\n",
              "      <td>49.32900</td>\n",
              "      <td>36.54</td>\n",
              "      <td>45.661389</td>\n",
              "      <td>0.000000</td>\n",
              "      <td>0</td>\n",
              "      <td>40.233230</td>\n",
              "      <td>0</td>\n",
              "      <td>9.121389</td>\n",
              "      <td>-3.667611</td>\n",
              "    </tr>\n",
              "    <tr>\n",
              "      <th>...</th>\n",
              "      <td>...</td>\n",
              "      <td>...</td>\n",
              "      <td>...</td>\n",
              "      <td>...</td>\n",
              "      <td>...</td>\n",
              "      <td>...</td>\n",
              "      <td>...</td>\n",
              "      <td>...</td>\n",
              "      <td>...</td>\n",
              "      <td>...</td>\n",
              "      <td>...</td>\n",
              "      <td>...</td>\n",
              "      <td>...</td>\n",
              "      <td>...</td>\n",
              "      <td>...</td>\n",
              "      <td>...</td>\n",
              "      <td>...</td>\n",
              "      <td>...</td>\n",
              "      <td>...</td>\n",
              "      <td>...</td>\n",
              "      <td>...</td>\n",
              "    </tr>\n",
              "    <tr>\n",
              "      <th>8525507</th>\n",
              "      <td>20220409235959</td>\n",
              "      <td>c3f09ead5c48d3963994bb1d22ee3e5aabc6231962ba1d...</td>\n",
              "      <td>1</td>\n",
              "      <td>becd0e5686fae9c4a1885a950817a70f9ae3c437d32a60...</td>\n",
              "      <td>d64dbe2039165cce22fae7c7f16259596a196f149f08e7...</td>\n",
              "      <td>a2f05b9f2662f44757f69656801c4c0bd83e95caa10ddb...</td>\n",
              "      <td>1</td>\n",
              "      <td>1</td>\n",
              "      <td>2</td>\n",
              "      <td>78166d8ab99d327af1ae07155115cc4ea85281ecdc5b90...</td>\n",
              "      <td>...</td>\n",
              "      <td>275.563200</td>\n",
              "      <td>49.73400</td>\n",
              "      <td>36.84</td>\n",
              "      <td>165.337920</td>\n",
              "      <td>159.640000</td>\n",
              "      <td>1</td>\n",
              "      <td>142.804032</td>\n",
              "      <td>1</td>\n",
              "      <td>128.497920</td>\n",
              "      <td>115.603920</td>\n",
              "    </tr>\n",
              "    <tr>\n",
              "      <th>8525508</th>\n",
              "      <td>20220409235959</td>\n",
              "      <td>14e0b00bb97e4aaa523e034f7a3ab7c960f60776d29766...</td>\n",
              "      <td>1</td>\n",
              "      <td>becd0e5686fae9c4a1885a950817a70f9ae3c437d32a60...</td>\n",
              "      <td>554b9474090ae6e25f9c6b93294eb85a2ef720ee49476d...</td>\n",
              "      <td>dc83186485f48c299c25f841bc8b866f4b80d901d825fe...</td>\n",
              "      <td>1</td>\n",
              "      <td>1</td>\n",
              "      <td>1</td>\n",
              "      <td>0ce79ee7b3ae2bf693d51cb98ba808cff0ae78139806ac...</td>\n",
              "      <td>...</td>\n",
              "      <td>81.048000</td>\n",
              "      <td>49.73400</td>\n",
              "      <td>36.84</td>\n",
              "      <td>48.628800</td>\n",
              "      <td>41.820764</td>\n",
              "      <td>1</td>\n",
              "      <td>46.398832</td>\n",
              "      <td>0</td>\n",
              "      <td>11.788800</td>\n",
              "      <td>-1.105200</td>\n",
              "    </tr>\n",
              "    <tr>\n",
              "      <th>8525509</th>\n",
              "      <td>20220409235959</td>\n",
              "      <td>563c88c3eb3e455273f843430be728dbce40666ba15f66...</td>\n",
              "      <td>5</td>\n",
              "      <td>becd0e5686fae9c4a1885a950817a70f9ae3c437d32a60...</td>\n",
              "      <td>58e82266d3dd5e06208ea5e5935130faf276e4f95c3553...</td>\n",
              "      <td>95380be2c6bdb9fddef405417310251a1f3524b3761033...</td>\n",
              "      <td>3</td>\n",
              "      <td>1</td>\n",
              "      <td>1</td>\n",
              "      <td>7c34480449a8d6379ab49073e892e043849f4ab2914f1f...</td>\n",
              "      <td>...</td>\n",
              "      <td>664.593600</td>\n",
              "      <td>240.00032</td>\n",
              "      <td>368.40</td>\n",
              "      <td>398.756160</td>\n",
              "      <td>380.680000</td>\n",
              "      <td>1</td>\n",
              "      <td>365.360639</td>\n",
              "      <td>1</td>\n",
              "      <td>30.356160</td>\n",
              "      <td>158.755840</td>\n",
              "    </tr>\n",
              "    <tr>\n",
              "      <th>8525510</th>\n",
              "      <td>20220409235959</td>\n",
              "      <td>7780f913123f259c2ec2a48770a23fb5e97791fecaa76b...</td>\n",
              "      <td>1</td>\n",
              "      <td>becd0e5686fae9c4a1885a950817a70f9ae3c437d32a60...</td>\n",
              "      <td>554b9474090ae6e25f9c6b93294eb85a2ef720ee49476d...</td>\n",
              "      <td>dc83186485f48c299c25f841bc8b866f4b80d901d825fe...</td>\n",
              "      <td>1</td>\n",
              "      <td>1</td>\n",
              "      <td>1</td>\n",
              "      <td>546a640e3607a1f3e0fac206f1b6f8ffd924fa1e78da2c...</td>\n",
              "      <td>...</td>\n",
              "      <td>145.886400</td>\n",
              "      <td>49.73400</td>\n",
              "      <td>36.84</td>\n",
              "      <td>87.531840</td>\n",
              "      <td>82.305472</td>\n",
              "      <td>1</td>\n",
              "      <td>78.533899</td>\n",
              "      <td>1</td>\n",
              "      <td>50.691840</td>\n",
              "      <td>37.797840</td>\n",
              "    </tr>\n",
              "    <tr>\n",
              "      <th>8525511</th>\n",
              "      <td>20220409235959</td>\n",
              "      <td>aeb260a9bbd44de63bb727ef5e7a2775934e92ecca9c15...</td>\n",
              "      <td>1</td>\n",
              "      <td>becd0e5686fae9c4a1885a950817a70f9ae3c437d32a60...</td>\n",
              "      <td>554b9474090ae6e25f9c6b93294eb85a2ef720ee49476d...</td>\n",
              "      <td>dc83186485f48c299c25f841bc8b866f4b80d901d825fe...</td>\n",
              "      <td>1</td>\n",
              "      <td>1</td>\n",
              "      <td>1</td>\n",
              "      <td>8554bedc7627aa778007a61d47ef53d5f4d390bad9a608...</td>\n",
              "      <td>...</td>\n",
              "      <td>145.886400</td>\n",
              "      <td>49.73400</td>\n",
              "      <td>36.84</td>\n",
              "      <td>87.531840</td>\n",
              "      <td>85.960000</td>\n",
              "      <td>1</td>\n",
              "      <td>78.533899</td>\n",
              "      <td>1</td>\n",
              "      <td>50.691840</td>\n",
              "      <td>37.797840</td>\n",
              "    </tr>\n",
              "  </tbody>\n",
              "</table>\n",
              "<p>8525512 rows × 29 columns</p>\n",
              "</div>\n",
              "      <button class=\"colab-df-convert\" onclick=\"convertToInteractive('df-5000be7f-bb5c-4403-8429-4bffcd87ca1b')\"\n",
              "              title=\"Convert this dataframe to an interactive table.\"\n",
              "              style=\"display:none;\">\n",
              "        \n",
              "  <svg xmlns=\"http://www.w3.org/2000/svg\" height=\"24px\"viewBox=\"0 0 24 24\"\n",
              "       width=\"24px\">\n",
              "    <path d=\"M0 0h24v24H0V0z\" fill=\"none\"/>\n",
              "    <path d=\"M18.56 5.44l.94 2.06.94-2.06 2.06-.94-2.06-.94-.94-2.06-.94 2.06-2.06.94zm-11 1L8.5 8.5l.94-2.06 2.06-.94-2.06-.94L8.5 2.5l-.94 2.06-2.06.94zm10 10l.94 2.06.94-2.06 2.06-.94-2.06-.94-.94-2.06-.94 2.06-2.06.94z\"/><path d=\"M17.41 7.96l-1.37-1.37c-.4-.4-.92-.59-1.43-.59-.52 0-1.04.2-1.43.59L10.3 9.45l-7.72 7.72c-.78.78-.78 2.05 0 2.83L4 21.41c.39.39.9.59 1.41.59.51 0 1.02-.2 1.41-.59l7.78-7.78 2.81-2.81c.8-.78.8-2.07 0-2.86zM5.41 20L4 18.59l7.72-7.72 1.47 1.35L5.41 20z\"/>\n",
              "  </svg>\n",
              "      </button>\n",
              "      \n",
              "  <style>\n",
              "    .colab-df-container {\n",
              "      display:flex;\n",
              "      flex-wrap:wrap;\n",
              "      gap: 12px;\n",
              "    }\n",
              "\n",
              "    .colab-df-convert {\n",
              "      background-color: #E8F0FE;\n",
              "      border: none;\n",
              "      border-radius: 50%;\n",
              "      cursor: pointer;\n",
              "      display: none;\n",
              "      fill: #1967D2;\n",
              "      height: 32px;\n",
              "      padding: 0 0 0 0;\n",
              "      width: 32px;\n",
              "    }\n",
              "\n",
              "    .colab-df-convert:hover {\n",
              "      background-color: #E2EBFA;\n",
              "      box-shadow: 0px 1px 2px rgba(60, 64, 67, 0.3), 0px 1px 3px 1px rgba(60, 64, 67, 0.15);\n",
              "      fill: #174EA6;\n",
              "    }\n",
              "\n",
              "    [theme=dark] .colab-df-convert {\n",
              "      background-color: #3B4455;\n",
              "      fill: #D2E3FC;\n",
              "    }\n",
              "\n",
              "    [theme=dark] .colab-df-convert:hover {\n",
              "      background-color: #434B5C;\n",
              "      box-shadow: 0px 1px 3px 1px rgba(0, 0, 0, 0.15);\n",
              "      filter: drop-shadow(0px 1px 2px rgba(0, 0, 0, 0.3));\n",
              "      fill: #FFFFFF;\n",
              "    }\n",
              "  </style>\n",
              "\n",
              "      <script>\n",
              "        const buttonEl =\n",
              "          document.querySelector('#df-5000be7f-bb5c-4403-8429-4bffcd87ca1b button.colab-df-convert');\n",
              "        buttonEl.style.display =\n",
              "          google.colab.kernel.accessAllowed ? 'block' : 'none';\n",
              "\n",
              "        async function convertToInteractive(key) {\n",
              "          const element = document.querySelector('#df-5000be7f-bb5c-4403-8429-4bffcd87ca1b');\n",
              "          const dataTable =\n",
              "            await google.colab.kernel.invokeFunction('convertToInteractive',\n",
              "                                                     [key], {});\n",
              "          if (!dataTable) return;\n",
              "\n",
              "          const docLinkHtml = 'Like what you see? Visit the ' +\n",
              "            '<a target=\"_blank\" href=https://colab.research.google.com/notebooks/data_table.ipynb>data table notebook</a>'\n",
              "            + ' to learn more about interactive tables.';\n",
              "          element.innerHTML = '';\n",
              "          dataTable['output_type'] = 'display_data';\n",
              "          await google.colab.output.renderOutput(dataTable, element);\n",
              "          const docLink = document.createElement('div');\n",
              "          docLink.innerHTML = docLinkHtml;\n",
              "          element.appendChild(docLink);\n",
              "        }\n",
              "      </script>\n",
              "    </div>\n",
              "  </div>\n",
              "  "
            ]
          },
          "metadata": {},
          "execution_count": 12
        }
      ]
    },
    {
      "cell_type": "markdown",
      "source": [
        "## 데이터 전처리"
      ],
      "metadata": {
        "id": "rvV4KXLHyJ3h"
      }
    },
    {
      "cell_type": "code",
      "source": [
        "# ID관련 column, 시각, P5, 광고 응답 소재 카테고리 행 삭제\n",
        "train.drop(columns=['시각', 'ADID', 'DSP ID', '매체 ID', '애드유닛 ID', '노출 ID', 'SSP 입찰ID', 'DSP 입찰ID', 'AX 낙찰ID', 'WUID (웹 유저 ID)', 'OS 버전 ID', '국가코드 ID', 'P5', '광고 응답 소재 카테고리'], inplace=True)"
      ],
      "metadata": {
        "id": "670qf-darzPQ"
      },
      "execution_count": 13,
      "outputs": []
    },
    {
      "cell_type": "code",
      "source": [
        "# 결측치 확인\n",
        "train.isna().sum()"
      ],
      "metadata": {
        "colab": {
          "base_uri": "https://localhost:8080/"
        },
        "id": "A9XRk4itxapL",
        "outputId": "9ca35374-21b4-43f6-fe39-8b6af180cfd6"
      },
      "execution_count": 14,
      "outputs": [
        {
          "output_type": "execute_result",
          "data": {
            "text/plain": [
              "ADID 타입             0\n",
              "플랫폼                 0\n",
              "OS 종류               0\n",
              "사이즈 ID              0\n",
              "환율                  0\n",
              "광고 응답 광고주 도메인    3012\n",
              "P1                  0\n",
              "P2                  0\n",
              "P3                  0\n",
              "P4                  0\n",
              "winning             0\n",
              "new_feature         0\n",
              "new_feature2        0\n",
              "P4_P3               0\n",
              "P4_P2               0\n",
              "dtype: int64"
            ]
          },
          "metadata": {},
          "execution_count": 14
        }
      ]
    },
    {
      "cell_type": "code",
      "source": [
        "# 결측치 행 제거\n",
        "train.dropna(inplace=True)"
      ],
      "metadata": {
        "id": "esrC4kBFx4pq"
      },
      "execution_count": 15,
      "outputs": []
    },
    {
      "cell_type": "code",
      "source": [
        "# 데이터 결측치 확인\n",
        "train.isna().sum()"
      ],
      "metadata": {
        "colab": {
          "base_uri": "https://localhost:8080/"
        },
        "id": "HmHquB-3x914",
        "outputId": "7a021254-c769-47c4-9d75-45185e5b1ecb"
      },
      "execution_count": 16,
      "outputs": [
        {
          "output_type": "execute_result",
          "data": {
            "text/plain": [
              "ADID 타입          0\n",
              "플랫폼              0\n",
              "OS 종류            0\n",
              "사이즈 ID           0\n",
              "환율               0\n",
              "광고 응답 광고주 도메인    0\n",
              "P1               0\n",
              "P2               0\n",
              "P3               0\n",
              "P4               0\n",
              "winning          0\n",
              "new_feature      0\n",
              "new_feature2     0\n",
              "P4_P3            0\n",
              "P4_P2            0\n",
              "dtype: int64"
            ]
          },
          "metadata": {},
          "execution_count": 16
        }
      ]
    },
    {
      "cell_type": "code",
      "source": [
        "# 가변수화할 행의 범주 개수 파악하기.\n",
        "len(train['ADID 타입'].unique()),len(train['플랫폼'].unique()),len(train['OS 종류'].unique()),len(train['사이즈 ID'].unique()),len(train['광고 응답 광고주 도메인'].unique())"
      ],
      "metadata": {
        "colab": {
          "base_uri": "https://localhost:8080/"
        },
        "id": "0cqOqasmyfy0",
        "outputId": "d4a22ae4-49be-4e0a-8869-09dbcc3f319e"
      },
      "execution_count": 17,
      "outputs": [
        {
          "output_type": "execute_result",
          "data": {
            "text/plain": [
              "(4, 3, 2, 3, 2473)"
            ]
          },
          "metadata": {},
          "execution_count": 17
        }
      ]
    },
    {
      "cell_type": "code",
      "source": [
        "# 광고 응답 광고주 도메인이 너무 많은 범주를 가지므로 제거\n",
        "train.drop(columns=['광고 응답 광고주 도메인'], inplace=True)"
      ],
      "metadata": {
        "id": "D0JRnrWkzi4j"
      },
      "execution_count": 18,
      "outputs": []
    },
    {
      "cell_type": "code",
      "source": [
        "# 가변수화\n",
        "train_d = pd.get_dummies(train, columns=['ADID 타입', '플랫폼', 'OS 종류', '사이즈 ID'], drop_first=True)"
      ],
      "metadata": {
        "id": "4v1Lxx69w0UA"
      },
      "execution_count": 19,
      "outputs": []
    },
    {
      "cell_type": "code",
      "source": [
        "# 행 이름 확인\n",
        "list(train_d)"
      ],
      "metadata": {
        "colab": {
          "base_uri": "https://localhost:8080/"
        },
        "id": "UoDQF3awujG9",
        "outputId": "9f762f04-33f2-4b3d-8bb2-2fc383dab3fb"
      },
      "execution_count": 20,
      "outputs": [
        {
          "output_type": "execute_result",
          "data": {
            "text/plain": [
              "['환율',\n",
              " 'P1',\n",
              " 'P2',\n",
              " 'P3',\n",
              " 'P4',\n",
              " 'winning',\n",
              " 'new_feature',\n",
              " 'new_feature2',\n",
              " 'P4_P3',\n",
              " 'P4_P2',\n",
              " 'ADID 타입_2',\n",
              " 'ADID 타입_5',\n",
              " 'ADID 타입_7',\n",
              " '플랫폼_2',\n",
              " '플랫폼_3',\n",
              " 'OS 종류_2',\n",
              " '사이즈 ID_2',\n",
              " '사이즈 ID_3']"
            ]
          },
          "metadata": {},
          "execution_count": 20
        }
      ]
    },
    {
      "cell_type": "code",
      "source": [
        "# 데이터에서 x, y 분리\n",
        "x = train_d.drop(columns=['winning'])\n",
        "y = train_d.loc[:, 'winning']"
      ],
      "metadata": {
        "id": "rWj6UHX_t4ST"
      },
      "execution_count": 21,
      "outputs": []
    },
    {
      "cell_type": "code",
      "source": [
        "x.shape, y.shape"
      ],
      "metadata": {
        "colab": {
          "base_uri": "https://localhost:8080/"
        },
        "id": "YMn7UFsBt7jJ",
        "outputId": "6d7a9cb5-cb0f-48ce-bd46-9e57d4691240"
      },
      "execution_count": 22,
      "outputs": [
        {
          "output_type": "execute_result",
          "data": {
            "text/plain": [
              "((8522500, 17), (8522500,))"
            ]
          },
          "metadata": {},
          "execution_count": 22
        }
      ]
    },
    {
      "cell_type": "code",
      "source": [
        "# train set, validation set split\n",
        "from sklearn.model_selection import train_test_split\n",
        "x_train, x_val, y_train, y_val = train_test_split(x, y, test_size=0.1, random_state=2022)\n",
        "\n",
        "# 데이터 양이 많으므로 test_size는 0.1의 비율로 설정"
      ],
      "metadata": {
        "id": "t1RvVocBZZhc"
      },
      "execution_count": 23,
      "outputs": []
    },
    {
      "cell_type": "code",
      "source": [
        "x_train.shape, x_val.shape, y_train.shape, y_val.shape"
      ],
      "metadata": {
        "id": "s6qAYc6eDA6v",
        "colab": {
          "base_uri": "https://localhost:8080/"
        },
        "outputId": "0e972f78-d420-4db1-f8b5-a8b133247dfc"
      },
      "execution_count": 24,
      "outputs": [
        {
          "output_type": "execute_result",
          "data": {
            "text/plain": [
              "((7670250, 17), (852250, 17), (7670250,), (852250,))"
            ]
          },
          "metadata": {},
          "execution_count": 24
        }
      ]
    },
    {
      "cell_type": "markdown",
      "source": [
        "## 모델링 시작"
      ],
      "metadata": {
        "id": "9Vnrnn3f0_oQ"
      }
    },
    {
      "cell_type": "markdown",
      "source": [
        "### GPU 환경인지 확인"
      ],
      "metadata": {
        "id": "ONzCUaha1D74"
      }
    },
    {
      "cell_type": "code",
      "source": [
        "device_name = tf.test.gpu_device_name()\n",
        "if device_name != '/device:GPU:0':\n",
        "  raise SystemError('GPU device not found')\n",
        "print('Found GPU at: {}'.format(device_name))"
      ],
      "metadata": {
        "id": "Bj3NI3RpFJDb",
        "colab": {
          "base_uri": "https://localhost:8080/"
        },
        "outputId": "0cf8a351-7a47-4267-fb71-dc86418634c6"
      },
      "execution_count": 27,
      "outputs": [
        {
          "output_type": "stream",
          "name": "stdout",
          "text": [
            "Found GPU at: /device:GPU:0\n"
          ]
        }
      ]
    },
    {
      "cell_type": "markdown",
      "source": [
        "## Random Forest 모델"
      ],
      "metadata": {
        "id": "7gfgyla6zV1c"
      }
    },
    {
      "cell_type": "code",
      "source": [
        "# sklearn에서 모델 불러오기\n",
        "from sklearn.ensemble import RandomForestClassifier"
      ],
      "metadata": {
        "id": "4DQFBs2P1try"
      },
      "execution_count": 67,
      "outputs": []
    },
    {
      "cell_type": "code",
      "source": [
        "# 모델 선언과 학습\n",
        "model_rf = RandomForestClassifier()\n",
        "model_rf.fit(x_train, y_train)"
      ],
      "metadata": {
        "id": "Zp5nHdpN0Ppv",
        "colab": {
          "base_uri": "https://localhost:8080/"
        },
        "outputId": "b16b570f-199c-4cea-e327-8c46d1a14b0b"
      },
      "execution_count": 68,
      "outputs": [
        {
          "output_type": "execute_result",
          "data": {
            "text/plain": [
              "RandomForestClassifier(bootstrap=True, ccp_alpha=0.0, class_weight=None,\n",
              "                       criterion='gini', max_depth=None, max_features='auto',\n",
              "                       max_leaf_nodes=None, max_samples=None,\n",
              "                       min_impurity_decrease=0.0, min_impurity_split=None,\n",
              "                       min_samples_leaf=1, min_samples_split=2,\n",
              "                       min_weight_fraction_leaf=0.0, n_estimators=100,\n",
              "                       n_jobs=None, oob_score=False, random_state=None,\n",
              "                       verbose=0, warm_start=False)"
            ]
          },
          "metadata": {},
          "execution_count": 68
        }
      ]
    },
    {
      "cell_type": "code",
      "source": [
        "# 모델 예측 및 결과\n",
        "from sklearn.metrics import *\n",
        "pred_rf = model_rf.predict(x_val)\n",
        "\n",
        "print(confusion_matrix(y_val, pred_rf))\n",
        "print(classification_report(y_val, pred_rf))"
      ],
      "metadata": {
        "colab": {
          "base_uri": "https://localhost:8080/"
        },
        "id": "BZfjTNcivPRw",
        "outputId": "cab6eae0-33b7-4546-9f5c-1ca327c05f2b"
      },
      "execution_count": 70,
      "outputs": [
        {
          "output_type": "stream",
          "name": "stdout",
          "text": [
            "[[560333  40963]\n",
            " [ 79924 171030]]\n",
            "              precision    recall  f1-score   support\n",
            "\n",
            "           0       0.88      0.93      0.90    601296\n",
            "           1       0.81      0.68      0.74    250954\n",
            "\n",
            "    accuracy                           0.86    852250\n",
            "   macro avg       0.84      0.81      0.82    852250\n",
            "weighted avg       0.86      0.86      0.85    852250\n",
            "\n"
          ]
        }
      ]
    },
    {
      "cell_type": "markdown",
      "source": [
        "### 모델 저장"
      ],
      "metadata": {
        "id": "WxuLqxYczoGI"
      }
    },
    {
      "cell_type": "code",
      "source": [
        "# 모델 저장\n",
        "from joblib import dump, load\n",
        "dump(model_rf, 'model_rf.joblib') "
      ],
      "metadata": {
        "colab": {
          "base_uri": "https://localhost:8080/"
        },
        "id": "iPGa2vrzz4Tc",
        "outputId": "3d391cbc-eeb9-48fe-9482-1cc5650e5a2a"
      },
      "execution_count": 36,
      "outputs": [
        {
          "output_type": "execute_result",
          "data": {
            "text/plain": [
              "['model_rf.joblib']"
            ]
          },
          "metadata": {},
          "execution_count": 36
        }
      ]
    },
    {
      "cell_type": "code",
      "source": [
        "from joblib import dump, load\n",
        "load_model_rf = load('/result/model_rf.joblib') \n",
        "pred_rf = load_model_rf.predict(x_val)\n",
        "print(confusion_matrix(y_val, pred_rf))\n",
        "print(classification_report(y_val, pred_rf))"
      ],
      "metadata": {
        "colab": {
          "base_uri": "https://localhost:8080/"
        },
        "id": "00nQEx6U4u5Y",
        "outputId": "0569e908-4f9f-4058-c491-bf69616ad1f0"
      },
      "execution_count": 37,
      "outputs": [
        {
          "output_type": "stream",
          "name": "stdout",
          "text": [
            "[[560333  40963]\n",
            " [ 79924 171030]]\n",
            "              precision    recall  f1-score   support\n",
            "\n",
            "           0       0.88      0.93      0.90    601296\n",
            "           1       0.81      0.68      0.74    250954\n",
            "\n",
            "    accuracy                           0.86    852250\n",
            "   macro avg       0.84      0.81      0.82    852250\n",
            "weighted avg       0.86      0.86      0.85    852250\n",
            "\n"
          ]
        }
      ]
    },
    {
      "cell_type": "code",
      "source": [],
      "metadata": {
        "id": "wWXANwiL4yEp"
      },
      "execution_count": null,
      "outputs": []
    }
  ]
}