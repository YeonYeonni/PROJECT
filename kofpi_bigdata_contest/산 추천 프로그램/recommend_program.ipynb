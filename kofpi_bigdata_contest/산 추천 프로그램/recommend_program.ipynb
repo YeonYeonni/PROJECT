{
 "cells": [
  {
   "cell_type": "code",
   "execution_count": 213,
   "id": "5b2f31d6-1fc0-480c-8b38-635111e465e8",
   "metadata": {},
   "outputs": [
    {
     "name": "stdin",
     "output_type": "stream",
     "text": [
      "지역을 선택하세요 :  서울\n"
     ]
    },
    {
     "name": "stdout",
     "output_type": "stream",
     "text": [
      "선택 지역 : 서울 \n",
      "\n"
     ]
    },
    {
     "name": "stdin",
     "output_type": "stream",
     "text": [
      "난이도를 입력하세요 (쉬움, 중간, 어려움) :  쉬움\n"
     ]
    },
    {
     "name": "stdout",
     "output_type": "stream",
     "text": [
      "선택 난이도 : 쉬움 \n",
      "\n",
      "회원님에게 추천하는 산은 북한산 입니다! \n",
      "\n",
      "회원님에게 추천하는 산은 불암산_테스트용 입니다! \n",
      "\n"
     ]
    }
   ],
   "source": [
    "import pandas as pd\n",
    "import numpy as np\n",
    "\n",
    "df = pd.read_csv(\"./recommend_program.csv\", encoding=\"cp949\")\n",
    "df = df.set_index('산명')\n",
    "\n",
    "# 변수 선언\n",
    "place_list = ['서울', '경기', '강원', '충북', '충남', '경북', '경남', '전북', '전남', '제주']\n",
    "level_list = ['쉬움', '중간', '어려움']\n",
    "\n",
    "# 지역 선택\n",
    "\n",
    "place = input(\"지역을 선택하세요 : \")\n",
    "\n",
    "if place in place_list :\n",
    "    print('선택 지역 : ' + place, '\\n')\n",
    "    \n",
    "    # 난이도 선택\n",
    "    \n",
    "    level = input(\"난이도를 입력하세요 (쉬움, 중간, 어려움) : \")\n",
    "\n",
    "    if level in level_list :\n",
    "        print('선택 난이도 : ' + level, '\\n')\n",
    "\n",
    "    else :\n",
    "        print('잘못된 값을 입력했습니다.', '\\n')\n",
    "    \n",
    "\n",
    "else :\n",
    "    print('잘못된 값을 입력했습니다.', '\\n')\n",
    "\n",
    "# 지역으로 데이터 필터링\n",
    "is_place = df['지역'] == place\n",
    "df_filtered = df[is_place]\n",
    "\n",
    "# 난이도로 데이터 필터링\n",
    "is_level = df_filtered['난이도'] == level\n",
    "\n",
    "for i in range (0, len(df_filtered)) :\n",
    "    if is_level[i] == True :\n",
    "        print('회원님에게 추천하는 산은' ,df_filtered.index[i], '입니다!', '\\n')"
   ]
  },
  {
   "cell_type": "code",
   "execution_count": null,
   "id": "78ad309b-9526-4385-b9c5-29cea14093ba",
   "metadata": {},
   "outputs": [],
   "source": []
  }
 ],
 "metadata": {
  "kernelspec": {
   "display_name": "Python 3",
   "language": "python",
   "name": "python3"
  },
  "language_info": {
   "codemirror_mode": {
    "name": "ipython",
    "version": 3
   },
   "file_extension": ".py",
   "mimetype": "text/x-python",
   "name": "python",
   "nbconvert_exporter": "python",
   "pygments_lexer": "ipython3",
   "version": "3.8.8"
  }
 },
 "nbformat": 4,
 "nbformat_minor": 5
}
